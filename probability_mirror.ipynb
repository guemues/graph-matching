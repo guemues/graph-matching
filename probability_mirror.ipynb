{
 "cells": [
  {
   "cell_type": "heading",
   "metadata": {},
   "level": 1,
   "source": [
    "best_compare_mirror_embeddings makes the same signs the dimensions"
   ]
  },
  {
   "cell_type": "code",
   "execution_count": 4,
   "metadata": {
    "collapsed": true
   },
   "outputs": [],
   "source": [
    "import networkx as nx\n",
    "from gem.embedding.lle import LocallyLinearEmbedding\n",
    "from matching import best_compare_mirror_embeddings"
   ]
  },
  {
   "cell_type": "code",
   "execution_count": 2,
   "metadata": {},
   "outputs": [
    {
     "name": "stderr",
     "output_type": "stream",
     "text": [
      "INFO:matching.matching:[1.0877162032317399e-12, 0.15903886468164555, 0.15667197215717665, 0.24994896122691532]\n"
     ]
    },
    {
     "name": "stderr",
     "output_type": "stream",
     "text": [
      "INFO:matching.matching:[0.24994896122681096, 0.15667197215713435, 0.15903886468154127, 9.186184617380143e-13]\n"
     ]
    },
    {
     "name": "stderr",
     "output_type": "stream",
     "text": [
      "INFO:matching.matching:[0.15903886468139983, 5.291453865377788e-13, 0.24994896122650798, 0.15667197215687054]\n"
     ]
    },
    {
     "name": "stderr",
     "output_type": "stream",
     "text": [
      "INFO:matching.matching:[0.15903886468144313, 2.724363032967056e-13, 0.24994896122681468, 0.15667197215723636]\n"
     ]
    },
    {
     "name": "stderr",
     "output_type": "stream",
     "text": [
      "INFO:matching.matching:[0.24994896122688903, 0.1566719721572695, 0.1590388646815042, 2.8243041544928736e-13]\n"
     ]
    },
    {
     "name": "stderr",
     "output_type": "stream",
     "text": [
      "INFO:matching.matching:[0.15667197215710635, 0.24994896122667207, 1.3729668631268013e-12, 0.15903886468131534]\n"
     ]
    },
    {
     "name": "stderr",
     "output_type": "stream",
     "text": [
      "INFO:matching.matching:[1.3216030054910732e-12, 0.1590388646813117, 0.15667197215699605, 0.2499489612265406]\n"
     ]
    },
    {
     "name": "stderr",
     "output_type": "stream",
     "text": [
      "INFO:matching.matching:[0.15667197215704412, 0.24994896122690033, 8.585831111323862e-13, 0.15903886468181466]\n"
     ]
    },
    {
     "name": "stderr",
     "output_type": "stream",
     "text": [
      "INFO:matching.matching:[0.1590388646815005, 4.1573276338281746e-13, 0.24994896122700186, 0.15667197215740647]\n"
     ]
    },
    {
     "name": "stderr",
     "output_type": "stream",
     "text": [
      "INFO:matching.matching:[2.7747574641076903e-13, 0.15903886468152803, 0.15667197215735895, 0.24994896122699486]\n"
     ]
    },
    {
     "name": "stderr",
     "output_type": "stream",
     "text": [
      "INFO:matching.matching:[0.24994896122668933, 0.15667197215709489, 0.15903886468142928, 1.0815414130474234e-12]\n"
     ]
    },
    {
     "name": "stderr",
     "output_type": "stream",
     "text": [
      "INFO:matching.matching:[5.801745329901241e-13, 0.159038864681571, 0.15667197215700826, 0.2499489612267584]\n"
     ]
    },
    {
     "name": "stderr",
     "output_type": "stream",
     "text": [
      "INFO:matching.matching:[0.24994896122704804, 0.15667197215716944, 0.15903886468182818, 9.586307966505258e-13]\n"
     ]
    },
    {
     "name": "stderr",
     "output_type": "stream",
     "text": [
      "INFO:matching.matching:[0.15903886468144196, 1.7620544173506777e-12, 0.24994896122699617, 0.15667197215750084]\n"
     ]
    },
    {
     "name": "stderr",
     "output_type": "stream",
     "text": [
      "INFO:matching.matching:[0.24994896122689292, 0.15667197215724632, 0.15903886468154202, 2.166293330903983e-12]\n"
     ]
    },
    {
     "name": "stderr",
     "output_type": "stream",
     "text": [
      "INFO:matching.matching:[0.15903886468171258, 2.032557301232599e-12, 0.24994896122728277, 0.15667197215761422]\n"
     ]
    },
    {
     "name": "stderr",
     "output_type": "stream",
     "text": [
      "INFO:matching.matching:[0.24994896122712784, 0.15667197215741038, 0.15903886468165637, 5.424598529580312e-13]\n"
     ]
    },
    {
     "name": "stderr",
     "output_type": "stream",
     "text": [
      "INFO:matching.matching:[0.24994896122677518, 0.15667197215717496, 0.15903886468144796, 3.0175853175387056e-13]\n"
     ]
    },
    {
     "name": "stderr",
     "output_type": "stream",
     "text": [
      "INFO:matching.matching:[0.15903886468146988, 4.7232021969214e-13, 0.24994896122659221, 0.15667197215691334]\n"
     ]
    },
    {
     "name": "stderr",
     "output_type": "stream",
     "text": [
      "INFO:matching.matching:[8.27346302667238e-13, 0.1590388646815068, 0.15667197215697798, 0.24994896122669563]\n"
     ]
    },
    {
     "name": "stderr",
     "output_type": "stream",
     "text": [
      "INFO:matching.matching:[5.285561655580267e-13, 0.1590388646815916, 0.15667197215730305, 0.2499489612269898]\n"
     ]
    },
    {
     "name": "stderr",
     "output_type": "stream",
     "text": [
      "INFO:matching.matching:[0.15667197215734427, 0.24994896122708776, 6.414612284923832e-13, 0.15903886468165968]\n"
     ]
    },
    {
     "name": "stderr",
     "output_type": "stream",
     "text": [
      "INFO:matching.matching:[0.15667197215730413, 0.24994896122693336, 2.7321418584638517e-13, 0.15903886468150275]\n"
     ]
    },
    {
     "name": "stderr",
     "output_type": "stream",
     "text": [
      "INFO:matching.matching:[0.1566719721569369, 0.2499489612269026, 6.064694931571882e-13, 0.15903886468183218]\n"
     ]
    },
    {
     "name": "stderr",
     "output_type": "stream",
     "text": [
      "INFO:matching.matching:[0.1590388646814523, 4.796561923023817e-13, 0.2499489612270082, 0.15667197215743162]\n"
     ]
    },
    {
     "name": "stderr",
     "output_type": "stream",
     "text": [
      "INFO:matching.matching:[0.15667197215750536, 0.24994896122714777, 1.2276321927432581e-12, 0.15903886468163086]\n"
     ]
    },
    {
     "name": "stderr",
     "output_type": "stream",
     "text": [
      "INFO:matching.matching:[0.15903886468188233, 1.7686675495187887e-12, 0.2499489612272027, 0.1566719721572776]\n"
     ]
    },
    {
     "name": "stderr",
     "output_type": "stream",
     "text": [
      "INFO:matching.matching:[0.24994896122692065, 0.15667197215712977, 0.15903886468162667, 1.0252951663528166e-12]\n"
     ]
    },
    {
     "name": "stderr",
     "output_type": "stream",
     "text": [
      "INFO:matching.matching:[0.249948961226919, 0.15667197215716733, 0.15903886468169726, 5.015672570292156e-13]\n"
     ]
    },
    {
     "name": "stderr",
     "output_type": "stream",
     "text": [
      "INFO:matching.matching:[0.15667197215716003, 0.24994896122732485, 7.39195260105574e-13, 0.1590388646822134]\n"
     ]
    },
    {
     "name": "stderr",
     "output_type": "stream",
     "text": [
      "INFO:matching.matching:[6.032975542095231e-13, 0.15903886468114364, 0.15667197215712117, 0.2499489612264572]\n"
     ]
    },
    {
     "name": "stderr",
     "output_type": "stream",
     "text": [
      "INFO:matching.matching:[0.24994896122675198, 0.15667197215702597, 0.1590388646815445, 8.68584483129909e-13]\n"
     ]
    },
    {
     "name": "stderr",
     "output_type": "stream",
     "text": [
      "INFO:matching.matching:[0.24994896122671661, 0.15667197215724177, 0.15903886468130518, 2.964467705313312e-13]\n"
     ]
    },
    {
     "name": "stderr",
     "output_type": "stream",
     "text": [
      "INFO:matching.matching:[0.2499489612268269, 0.15667197215713008, 0.15903886468154002, 2.8277749939313474e-13]\n"
     ]
    },
    {
     "name": "stderr",
     "output_type": "stream",
     "text": [
      "INFO:matching.matching:[0.24994896122639956, 0.15667197215685383, 0.15903886468135464, 8.102008023984487e-13]\n"
     ]
    },
    {
     "name": "stderr",
     "output_type": "stream",
     "text": [
      "INFO:matching.matching:[2.657827271701169e-12, 0.15903886468163259, 0.15667197215723966, 0.24994896122696075]\n"
     ]
    },
    {
     "name": "stderr",
     "output_type": "stream",
     "text": [
      "INFO:matching.matching:[0.15667197215743764, 0.2499489612265289, 8.808483119283998e-13, 0.15903886468099768]\n"
     ]
    },
    {
     "name": "stderr",
     "output_type": "stream",
     "text": [
      "INFO:matching.matching:[0.24994896122671126, 0.15667197215700632, 0.1590388646815678, 6.454891443491162e-13]\n"
     ]
    },
    {
     "name": "stderr",
     "output_type": "stream",
     "text": [
      "INFO:matching.matching:[0.24994896122721588, 0.15667197215760498, 0.15903886468160836, 6.996377810959591e-13]\n"
     ]
    },
    {
     "name": "stderr",
     "output_type": "stream",
     "text": [
      "INFO:matching.matching:[1.9717903054309795e-13, 0.15903886468157874, 0.15667197215711576, 0.24994896122683344]\n"
     ]
    },
    {
     "name": "stderr",
     "output_type": "stream",
     "text": [
      "INFO:matching.matching:[0.15667197215731066, 0.2499489612268502, 4.685171522899907e-13, 0.15903886468139944]\n"
     ]
    },
    {
     "name": "stderr",
     "output_type": "stream",
     "text": [
      "INFO:matching.matching:[0.15903886468139772, 3.479264101087945e-13, 0.24994896122673257, 0.1566719721571721]\n"
     ]
    },
    {
     "name": "stderr",
     "output_type": "stream",
     "text": [
      "INFO:matching.matching:[0.15903886468133532, 6.902568039754977e-13, 0.2499489612267363, 0.1566719721571949]\n"
     ]
    },
    {
     "name": "stderr",
     "output_type": "stream",
     "text": [
      "INFO:matching.matching:[0.24994896122695642, 0.15667197215742695, 0.15903886468144088, 8.307712771006712e-13]\n"
     ]
    },
    {
     "name": "stderr",
     "output_type": "stream",
     "text": [
      "INFO:matching.matching:[0.15903886468115003, 1.4929879763301314e-12, 0.24994896122643687, 0.1566719721569621]\n"
     ]
    },
    {
     "name": "stderr",
     "output_type": "stream",
     "text": [
      "INFO:matching.matching:[0.1566719721571599, 0.24994896122690158, 2.733426892633218e-13, 0.15903886468163364]\n"
     ]
    },
    {
     "name": "stderr",
     "output_type": "stream",
     "text": [
      "INFO:matching.matching:[0.15667197215739515, 0.24994896122693144, 3.396466826420476e-13, 0.1590388646814384]\n"
     ]
    },
    {
     "name": "stderr",
     "output_type": "stream",
     "text": [
      "INFO:matching.matching:[0.15903886468140233, 2.8577364384588746e-13, 0.2499489612267949, 0.15667197215724926]\n"
     ]
    },
    {
     "name": "stderr",
     "output_type": "stream",
     "text": [
      "INFO:matching.matching:[0.15903886468136463, 1.6423229449785634e-12, 0.2499489612266417, 0.15667197215707868]\n"
     ]
    },
    {
     "name": "stderr",
     "output_type": "stream",
     "text": [
      "INFO:matching.matching:[2.6069299554540565e-13, 0.15903886468147915, 0.15667197215756823, 0.2499489612271223]\n"
     ]
    },
    {
     "name": "stderr",
     "output_type": "stream",
     "text": [
      "INFO:matching.matching:[0.24994896122666657, 0.15667197215710268, 0.1590388646813531, 2.453388121065299e-13]\n"
     ]
    },
    {
     "name": "stderr",
     "output_type": "stream",
     "text": [
      "INFO:matching.matching:[0.15903886468157247, 3.690203197747919e-13, 0.24994896122667343, 0.15667197215693038]\n"
     ]
    },
    {
     "name": "stderr",
     "output_type": "stream",
     "text": [
      "INFO:matching.matching:[0.15667197215704642, 0.24994896122659807, 1.7164022274389006e-13, 0.15903886468138817]\n"
     ]
    },
    {
     "name": "stderr",
     "output_type": "stream",
     "text": [
      "INFO:matching.matching:[0.15903886468169282, 1.5302256053766264e-12, 0.24994896122707724, 0.15667197215736595]\n"
     ]
    },
    {
     "name": "stderr",
     "output_type": "stream",
     "text": [
      "INFO:matching.matching:[0.249948961226511, 0.15667197215711134, 0.15903886468113648, 9.706097798046207e-13]\n"
     ]
    },
    {
     "name": "stderr",
     "output_type": "stream",
     "text": [
      "INFO:matching.matching:[1.0214909246646149e-12, 0.15903886468153944, 0.15667197215707993, 0.2499489612267849]\n"
     ]
    },
    {
     "name": "stderr",
     "output_type": "stream",
     "text": [
      "INFO:matching.matching:[0.1566719721571614, 0.24994896122679097, 2.7006520816271864e-13, 0.15903886468148806]\n"
     ]
    },
    {
     "name": "stderr",
     "output_type": "stream",
     "text": [
      "INFO:matching.matching:[0.15903886468127557, 7.236398573113793e-13, 0.24994896122649193, 0.15667197215693945]\n"
     ]
    },
    {
     "name": "stderr",
     "output_type": "stream",
     "text": [
      "INFO:matching.matching:[0.15667197215738565, 0.24994896122710486, 6.130406583465716e-13, 0.15903886468171527]\n"
     ]
    },
    {
     "name": "stderr",
     "output_type": "stream",
     "text": [
      "INFO:matching.matching:[0.15903886468143927, 2.699910063204615e-13, 0.24994896122666974, 0.1566719721570444]\n"
     ]
    },
    {
     "name": "stderr",
     "output_type": "stream",
     "text": [
      "INFO:matching.matching:[0.24994896122688218, 0.15667197215726236, 0.1590388646815293, 8.426578759535435e-13]\n"
     ]
    },
    {
     "name": "stderr",
     "output_type": "stream",
     "text": [
      "INFO:matching.matching:[0.1566719721572705, 0.24994896122685625, 3.1904033913012587e-13, 0.15903886468144257]\n"
     ]
    },
    {
     "name": "stderr",
     "output_type": "stream",
     "text": [
      "INFO:matching.matching:[0.15903886468164669, 1.0317415857455698e-12, 0.2499489612268407, 0.15667197215708253]\n"
     ]
    },
    {
     "name": "stderr",
     "output_type": "stream",
     "text": [
      "INFO:matching.matching:[0.2499489612267698, 0.1566719721571257, 0.15903886468149775, 5.069997005264959e-13]\n"
     ]
    },
    {
     "name": "stderr",
     "output_type": "stream",
     "text": [
      "INFO:matching.matching:[0.1590388646814354, 4.920608364844546e-13, 0.2499489612265736, 0.1566719721569206]\n"
     ]
    },
    {
     "name": "stderr",
     "output_type": "stream",
     "text": [
      "INFO:matching.matching:[0.24994896122683316, 0.156671972157115, 0.15903886468157505, 1.4894150321470202e-13]\n"
     ]
    },
    {
     "name": "stderr",
     "output_type": "stream",
     "text": [
      "INFO:matching.matching:[0.2499489612270362, 0.15667197215730194, 0.15903886468159, 8.55282206723924e-13]\n"
     ]
    },
    {
     "name": "stderr",
     "output_type": "stream",
     "text": [
      "INFO:matching.matching:[0.15667197215726214, 0.2499489612267247, 3.683217287315896e-13, 0.15903886468130854]\n"
     ]
    },
    {
     "name": "stderr",
     "output_type": "stream",
     "text": [
      "INFO:matching.matching:[0.1590388646813853, 4.1886624270170707e-13, 0.24994896122654583, 0.15667197215697745]\n"
     ]
    },
    {
     "name": "stderr",
     "output_type": "stream",
     "text": [
      "INFO:matching.matching:[0.24994896122696594, 0.15667197215728174, 0.15903886468156092, 2.3357998173845913e-13]\n"
     ]
    },
    {
     "name": "stderr",
     "output_type": "stream",
     "text": [
      "INFO:matching.matching:[7.21555865481378e-13, 0.159038864681452, 0.15667197215708106, 0.2499489612266902]\n"
     ]
    },
    {
     "name": "stderr",
     "output_type": "stream",
     "text": [
      "INFO:matching.matching:[1.7899914269575023e-12, 0.15903886468180292, 0.1566719721571393, 0.24994896122698002]\n"
     ]
    },
    {
     "name": "stderr",
     "output_type": "stream",
     "text": [
      "INFO:matching.matching:[0.2499489612266322, 0.15667197215702808, 0.1590388646814543, 1.0742072880785458e-12]\n"
     ]
    },
    {
     "name": "stderr",
     "output_type": "stream",
     "text": [
      "INFO:matching.matching:[0.24994896122706856, 0.156671972157451, 0.15903886468155648, 5.182285891026305e-13]\n"
     ]
    },
    {
     "name": "stderr",
     "output_type": "stream",
     "text": [
      "INFO:matching.matching:[0.1566719721570128, 0.24994896122658958, 1.108719947073356e-12, 0.15903886468141076]\n"
     ]
    },
    {
     "name": "stderr",
     "output_type": "stream",
     "text": [
      "INFO:matching.matching:[1.3629634398288669e-12, 0.15903886468155787, 0.15667197215722656, 0.2499489612268367]\n"
     ]
    },
    {
     "name": "stderr",
     "output_type": "stream",
     "text": [
      "INFO:matching.matching:[4.0590605990768097e-13, 0.15903886468149217, 0.15667197215722783, 0.24994896122680063]\n"
     ]
    },
    {
     "name": "stderr",
     "output_type": "stream",
     "text": [
      "INFO:matching.matching:[8.027029493033456e-13, 0.15903886468156606, 0.15667197215712284, 0.24994896122681085]\n"
     ]
    },
    {
     "name": "stderr",
     "output_type": "stream",
     "text": [
      "INFO:matching.matching:[0.15903886468146994, 7.52388396657509e-13, 0.24994896122677912, 0.15667197215711456]\n"
     ]
    },
    {
     "name": "stderr",
     "output_type": "stream",
     "text": [
      "INFO:matching.matching:[0.15903886468150202, 9.194847934436913e-13, 0.2499489612267454, 0.15667197215703926]\n"
     ]
    },
    {
     "name": "stderr",
     "output_type": "stream",
     "text": [
      "INFO:matching.matching:[0.15903886468147493, 4.541173162056265e-13, 0.2499489612267877, 0.15667197215715464]\n"
     ]
    },
    {
     "name": "stderr",
     "output_type": "stream",
     "text": [
      "INFO:matching.matching:[0.15903886468149778, 2.978656175561009e-13, 0.24994896122647503, 0.15667197215673778]\n"
     ]
    },
    {
     "name": "stderr",
     "output_type": "stream",
     "text": [
      "INFO:matching.matching:[0.24994896122631885, 0.15667197215703796, 0.15903886468101855, 4.332424031795967e-13]\n"
     ]
    },
    {
     "name": "stderr",
     "output_type": "stream",
     "text": [
      "INFO:matching.matching:[0.15667197215720344, 0.24994896122676993, 3.1334911574815113e-13, 0.15903886468138198]\n"
     ]
    },
    {
     "name": "stderr",
     "output_type": "stream",
     "text": [
      "INFO:matching.matching:[0.1590388646815141, 1.2360890737557143e-12, 0.24994896122638963, 0.15667197215660347]\n"
     ]
    },
    {
     "name": "stderr",
     "output_type": "stream",
     "text": [
      "INFO:matching.matching:[2.578642313964077e-13, 0.1590388646813747, 0.15667197215736622, 0.24994896122687685]\n"
     ]
    },
    {
     "name": "stderr",
     "output_type": "stream",
     "text": [
      "INFO:matching.matching:[0.1590388646815846, 2.323059322343995e-12, 0.24994896122720217, 0.15667197215752315]\n"
     ]
    },
    {
     "name": "stderr",
     "output_type": "stream",
     "text": [
      "INFO:matching.matching:[0.24994896122632443, 0.15667197215687884, 0.15903886468110526, 8.703381299505111e-13]\n"
     ]
    },
    {
     "name": "stderr",
     "output_type": "stream",
     "text": [
      "INFO:matching.matching:[0.15667197215744696, 0.24994896122722746, 1.7005991470605339e-12, 0.15903886468167858]\n"
     ]
    },
    {
     "name": "stderr",
     "output_type": "stream",
     "text": [
      "INFO:matching.matching:[0.15903886468102474, 3.261204959052553e-13, 0.24994896122648685, 0.1566719721572415]\n"
     ]
    },
    {
     "name": "stderr",
     "output_type": "stream",
     "text": [
      "INFO:matching.matching:[0.24994896122679566, 0.15667197215712153, 0.15903886468148587, 3.2536718814871695e-13]\n"
     ]
    },
    {
     "name": "stderr",
     "output_type": "stream",
     "text": [
      "INFO:matching.matching:[0.24994896122654553, 0.15667197215693632, 0.15903886468141856, 6.356407327929218e-13]\n"
     ]
    },
    {
     "name": "stderr",
     "output_type": "stream",
     "text": [
      "INFO:matching.matching:[5.567628440223781e-13, 0.15903886468136866, 0.15667197215697057, 0.24994896122653415]\n"
     ]
    },
    {
     "name": "stderr",
     "output_type": "stream",
     "text": [
      "INFO:matching.matching:[0.15903886468146233, 1.4037839410757414e-12, 0.24994896122694857, 0.15667197215737497]\n"
     ]
    },
    {
     "name": "stderr",
     "output_type": "stream",
     "text": [
      "INFO:matching.matching:[3.8257125380948324e-13, 0.15903886468161674, 0.15667197215717543, 0.24994896122689322]\n"
     ]
    },
    {
     "name": "stderr",
     "output_type": "stream",
     "text": [
      "INFO:matching.matching:[0.249948961226502, 0.15667197215708234, 0.15903886468123837, 2.009725795346209e-13]\n"
     ]
    },
    {
     "name": "stderr",
     "output_type": "stream",
     "text": [
      "INFO:matching.matching:[0.24994896122667662, 0.1566719721569981, 0.15903886468149347, 7.710338863021733e-13]\n"
     ]
    },
    {
     "name": "stderr",
     "output_type": "stream",
     "text": [
      "INFO:matching.matching:[2.938021758672994e-13, 0.15903886468142078, 0.15667197215703757, 0.24994896122666208]\n"
     ]
    },
    {
     "name": "stderr",
     "output_type": "stream",
     "text": [
      "INFO:matching.matching:[1.5872393123785283e-13, 0.15903886468146144, 0.15667197215738995, 0.24994896122700327]\n"
     ]
    },
    {
     "name": "stderr",
     "output_type": "stream",
     "text": [
      "INFO:matching.matching:[0.1590388646816681, 9.30384830045051e-13, 0.24994896122704932, 0.15667197215724377]\n"
     ]
    }
   ],
   "source": [
    "graph = nx.gnp_random_graph(100, 0.1)\n",
    "\n",
    "embedding_alg = LocallyLinearEmbedding(d=2)\n",
    "\n",
    "points = [best_compare_mirror_embeddings(embedding_alg.learn_embedding(graph=graph, edge_f=None, is_weighted=True, no_python=True)[0], embedding_alg.learn_embedding(graph=graph, edge_f=None, is_weighted=True, no_python=True)[0]) for _ in range(100)]"
   ]
  },
  {
   "cell_type": "code",
   "execution_count": 3,
   "metadata": {},
   "outputs": [
    {
     "data": {
      "text/plain": [
       "[1.0877162032317399e-12,\n 9.186184617380143e-13,\n 5.291453865377788e-13,\n 2.724363032967056e-13,\n 2.8243041544928736e-13,\n 1.3729668631268013e-12,\n 1.3216030054910732e-12,\n 8.585831111323862e-13,\n 4.1573276338281746e-13,\n 2.7747574641076903e-13,\n 1.0815414130474234e-12,\n 5.801745329901241e-13,\n 9.586307966505258e-13,\n 1.7620544173506777e-12,\n 2.166293330903983e-12,\n 2.032557301232599e-12,\n 5.424598529580312e-13,\n 3.0175853175387056e-13,\n 4.7232021969214e-13,\n 8.27346302667238e-13,\n 5.285561655580267e-13,\n 6.414612284923832e-13,\n 2.7321418584638517e-13,\n 6.064694931571882e-13,\n 4.796561923023817e-13,\n 1.2276321927432581e-12,\n 1.7686675495187887e-12,\n 1.0252951663528166e-12,\n 5.015672570292156e-13,\n 7.39195260105574e-13,\n 6.032975542095231e-13,\n 8.68584483129909e-13,\n 2.964467705313312e-13,\n 2.8277749939313474e-13,\n 8.102008023984487e-13,\n 2.657827271701169e-12,\n 8.808483119283998e-13,\n 6.454891443491162e-13,\n 6.996377810959591e-13,\n 1.9717903054309795e-13,\n 4.685171522899907e-13,\n 3.479264101087945e-13,\n 6.902568039754977e-13,\n 8.307712771006712e-13,\n 1.4929879763301314e-12,\n 2.733426892633218e-13,\n 3.396466826420476e-13,\n 2.8577364384588746e-13,\n 1.6423229449785634e-12,\n 2.6069299554540565e-13,\n 2.453388121065299e-13,\n 3.690203197747919e-13,\n 1.7164022274389006e-13,\n 1.5302256053766264e-12,\n 9.706097798046207e-13,\n 1.0214909246646149e-12,\n 2.7006520816271864e-13,\n 7.236398573113793e-13,\n 6.130406583465716e-13,\n 2.699910063204615e-13,\n 8.426578759535435e-13,\n 3.1904033913012587e-13,\n 1.0317415857455698e-12,\n 5.069997005264959e-13,\n 4.920608364844546e-13,\n 1.4894150321470202e-13,\n 8.55282206723924e-13,\n 3.683217287315896e-13,\n 4.1886624270170707e-13,\n 2.3357998173845913e-13,\n 7.21555865481378e-13,\n 1.7899914269575023e-12,\n 1.0742072880785458e-12,\n 5.182285891026305e-13,\n 1.108719947073356e-12,\n 1.3629634398288669e-12,\n 4.0590605990768097e-13,\n 8.027029493033456e-13,\n 7.52388396657509e-13,\n 9.194847934436913e-13,\n 4.541173162056265e-13,\n 2.978656175561009e-13,\n 4.332424031795967e-13,\n 3.1334911574815113e-13,\n 1.2360890737557143e-12,\n 2.578642313964077e-13,\n 2.323059322343995e-12,\n 8.703381299505111e-13,\n 1.7005991470605339e-12,\n 3.261204959052553e-13,\n 3.2536718814871695e-13,\n 6.356407327929218e-13,\n 5.567628440223781e-13,\n 1.4037839410757414e-12,\n 3.8257125380948324e-13,\n 2.009725795346209e-13,\n 7.710338863021733e-13,\n 2.938021758672994e-13,\n 1.5872393123785283e-13,\n 9.30384830045051e-13]"
      ]
     },
     "execution_count": 3,
     "metadata": {},
     "output_type": "execute_result"
    }
   ],
   "source": [
    "points"
   ]
  },
  {
   "cell_type": "heading",
   "metadata": {},
   "level": 2,
   "source": [
    "So there is no need for swapping"
   ]
  },
  {
   "cell_type": "code",
   "execution_count": null,
   "metadata": {},
   "outputs": [],
   "source": []
  }
 ],
 "metadata": {
  "kernelspec": {
   "display_name": "Python 2",
   "language": "python",
   "name": "python2"
  },
  "language_info": {
   "codemirror_mode": {
    "name": "ipython",
    "version": 2
   },
   "file_extension": ".py",
   "mimetype": "text/x-python",
   "name": "python",
   "nbconvert_exporter": "python",
   "pygments_lexer": "ipython2",
   "version": "2.7.6"
  }
 },
 "nbformat": 4,
 "nbformat_minor": 0
}
