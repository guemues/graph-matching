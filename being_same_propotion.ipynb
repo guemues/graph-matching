{
 "cells": [
  {
   "cell_type": "heading",
   "metadata": {},
   "level": 1,
   "source": [
    "Check the probability of being same for different embedings"
   ]
  },
  {
   "cell_type": "code",
   "execution_count": 10,
   "metadata": {
    "collapsed": true
   },
   "outputs": [],
   "source": [
    "import networkx as nx\n",
    "from gem.embedding.lle import LocallyLinearEmbedding\n",
    "from matching import compare_ordered_embeddings\n",
    "\n",
    "import numpy as np"
   ]
  },
  {
   "cell_type": "code",
   "execution_count": 20,
   "metadata": {},
   "outputs": [],
   "source": [
    "graph = nx.gnp_random_graph(1000, 0.01)\n"
   ]
  },
  {
   "cell_type": "code",
   "execution_count": 18,
   "metadata": {},
   "outputs": [],
   "source": [
    "\n",
    "embedding_alg = LocallyLinearEmbedding(d=2)\n",
    "\n",
    "points = [compare_ordered_embeddings(embedding_alg.learn_embedding(graph=graph, edge_f=None, is_weighted=True, no_python=True)[0], embedding_alg.learn_embedding(graph=graph, edge_f=None, is_weighted=True, no_python=True)[0]) for _ in range(10)]"
   ]
  },
  {
   "cell_type": "code",
   "execution_count": 19,
   "metadata": {},
   "outputs": [
    {
     "data": {
      "text/plain": [
       "0.3"
      ]
     },
     "execution_count": 19,
     "metadata": {},
     "output_type": "execute_result"
    }
   ],
   "source": [
    "sum(np.array(points) < 0.001) / len(points)"
   ]
  },
  {
   "cell_type": "code",
   "execution_count": 30,
   "metadata": {
    "collapsed": true
   },
   "outputs": [
    {
     "name": "stdout",
     "output_type": "stream",
     "text": [
      "Laplacian matrix recon. error (low rank): 10.494898\nLaplacian matrix recon. error (low rank): 10.494898\n"
     ]
    },
    {
     "name": "stdout",
     "output_type": "stream",
     "text": [
      "Laplacian matrix recon. error (low rank): 10.494898\nLaplacian matrix recon. error (low rank): 10.494898\n"
     ]
    },
    {
     "name": "stdout",
     "output_type": "stream",
     "text": [
      "Laplacian matrix recon. error (low rank): 10.494898\nLaplacian matrix recon. error (low rank): 10.494898\nLaplacian matrix recon. error (low rank): 10.494898\nLaplacian matrix recon. error (low rank): 10.494898\n"
     ]
    },
    {
     "name": "stdout",
     "output_type": "stream",
     "text": [
      "Laplacian matrix recon. error (low rank): 10.494898\nLaplacian matrix recon. error (low rank): 10.494898\nLaplacian matrix recon. error (low rank): 10.494898\nLaplacian matrix recon. error (low rank): 10.494898\nLaplacian matrix recon. error (low rank): 10.494898\n"
     ]
    },
    {
     "name": "stdout",
     "output_type": "stream",
     "text": [
      "Laplacian matrix recon. error (low rank): 10.494898\nLaplacian matrix recon. error (low rank): 10.494898\nLaplacian matrix recon. error (low rank): 10.494898\nLaplacian matrix recon. error (low rank): 10.494898\nLaplacian matrix recon. error (low rank): 10.494898\nLaplacian matrix recon. error (low rank): 10.494898\n"
     ]
    },
    {
     "name": "stdout",
     "output_type": "stream",
     "text": [
      "Laplacian matrix recon. error (low rank): 10.494898\nLaplacian matrix recon. error (low rank): 10.494898\nLaplacian matrix recon. error (low rank): 10.494898\nLaplacian matrix recon. error (low rank): 10.494898\nLaplacian matrix recon. error (low rank): 10.494898\nLaplacian matrix recon. error (low rank): 10.494898\n"
     ]
    },
    {
     "name": "stdout",
     "output_type": "stream",
     "text": [
      "Laplacian matrix recon. error (low rank): 10.494898\nLaplacian matrix recon. error (low rank): 10.494898\nLaplacian matrix recon. error (low rank): 10.494898\nLaplacian matrix recon. error (low rank): 10.494898\nLaplacian matrix recon. error (low rank): 10.494898\nLaplacian matrix recon. error (low rank): 10.494898\nLaplacian matrix recon. error (low rank): 10.494898\n"
     ]
    },
    {
     "name": "stdout",
     "output_type": "stream",
     "text": [
      "Laplacian matrix recon. error (low rank): 10.494898\nLaplacian matrix recon. error (low rank): 10.494898\n"
     ]
    },
    {
     "name": "stdout",
     "output_type": "stream",
     "text": [
      "Laplacian matrix recon. error (low rank): 10.494898\nLaplacian matrix recon. error (low rank): 10.494898\nLaplacian matrix recon. error (low rank): 10.494898\nLaplacian matrix recon. error (low rank): 10.494898\n"
     ]
    },
    {
     "name": "stdout",
     "output_type": "stream",
     "text": [
      "Laplacian matrix recon. error (low rank): 10.494898\nLaplacian matrix recon. error (low rank): 10.494898\nLaplacian matrix recon. error (low rank): 10.494898\nLaplacian matrix recon. error (low rank): 10.494898\nLaplacian matrix recon. error (low rank): 10.494898\nLaplacian matrix recon. error (low rank): 10.494898\nLaplacian matrix recon. error (low rank): 10.494898\nLaplacian matrix recon. error (low rank): 10.494898\nLaplacian matrix recon. error (low rank): 10.494898\n"
     ]
    },
    {
     "name": "stdout",
     "output_type": "stream",
     "text": [
      "Laplacian matrix recon. error (low rank): 10.494898\nLaplacian matrix recon. error (low rank): 10.494898\nLaplacian matrix recon. error (low rank): 10.494898\nLaplacian matrix recon. error (low rank): 10.494898\n"
     ]
    },
    {
     "name": "stdout",
     "output_type": "stream",
     "text": [
      "Laplacian matrix recon. error (low rank): 10.494898\nLaplacian matrix recon. error (low rank): 10.494898\nLaplacian matrix recon. error (low rank): 10.494898\n"
     ]
    },
    {
     "name": "stdout",
     "output_type": "stream",
     "text": [
      "Laplacian matrix recon. error (low rank): 10.494898\nLaplacian matrix recon. error (low rank): 10.494898\nLaplacian matrix recon. error (low rank): 10.494898\nLaplacian matrix recon. error (low rank): 10.494898\nLaplacian matrix recon. error (low rank): 10.494898\n"
     ]
    },
    {
     "name": "stdout",
     "output_type": "stream",
     "text": [
      "Laplacian matrix recon. error (low rank): 10.494898\nLaplacian matrix recon. error (low rank): 10.494898\nLaplacian matrix recon. error (low rank): 10.494898\nLaplacian matrix recon. error (low rank): 10.494898\nLaplacian matrix recon. error (low rank): 10.494898\nLaplacian matrix recon. error (low rank): 10.494898\nLaplacian matrix recon. error (low rank): 10.494898\n"
     ]
    },
    {
     "name": "stdout",
     "output_type": "stream",
     "text": [
      "Laplacian matrix recon. error (low rank): 10.494898\nLaplacian matrix recon. error (low rank): 10.494898\nLaplacian matrix recon. error (low rank): 10.494898\nLaplacian matrix recon. error (low rank): 10.494898\n"
     ]
    },
    {
     "name": "stdout",
     "output_type": "stream",
     "text": [
      "Laplacian matrix recon. error (low rank): 10.494898\nLaplacian matrix recon. error (low rank): 10.494898\nLaplacian matrix recon. error (low rank): 10.494898\n"
     ]
    },
    {
     "name": "stdout",
     "output_type": "stream",
     "text": [
      "Laplacian matrix recon. error (low rank): 10.494898\nLaplacian matrix recon. error (low rank): 10.494898\nLaplacian matrix recon. error (low rank): 10.494898\n"
     ]
    },
    {
     "name": "stdout",
     "output_type": "stream",
     "text": [
      "Laplacian matrix recon. error (low rank): 10.494898\nLaplacian matrix recon. error (low rank): 10.494898\nLaplacian matrix recon. error (low rank): 10.494898\n"
     ]
    },
    {
     "name": "stdout",
     "output_type": "stream",
     "text": [
      "Laplacian matrix recon. error (low rank): 10.494898\nLaplacian matrix recon. error (low rank): 10.494898\nLaplacian matrix recon. error (low rank): 10.494898\n"
     ]
    },
    {
     "name": "stdout",
     "output_type": "stream",
     "text": [
      "Laplacian matrix recon. error (low rank): 10.494898\nLaplacian matrix recon. error (low rank): 10.494898\nLaplacian matrix recon. error (low rank): 10.494898\n"
     ]
    },
    {
     "name": "stdout",
     "output_type": "stream",
     "text": [
      "Laplacian matrix recon. error (low rank): 10.494898\nLaplacian matrix recon. error (low rank): 10.494898\nLaplacian matrix recon. error (low rank): 10.494898\n"
     ]
    },
    {
     "name": "stdout",
     "output_type": "stream",
     "text": [
      "Laplacian matrix recon. error (low rank): 10.494898\nLaplacian matrix recon. error (low rank): 10.494898\n"
     ]
    },
    {
     "name": "stdout",
     "output_type": "stream",
     "text": [
      "Laplacian matrix recon. error (low rank): 10.494898\nLaplacian matrix recon. error (low rank): 10.494898\nLaplacian matrix recon. error (low rank): 10.494898\nLaplacian matrix recon. error (low rank): 10.494898\n"
     ]
    },
    {
     "name": "stdout",
     "output_type": "stream",
     "text": [
      "Laplacian matrix recon. error (low rank): 10.494898\nLaplacian matrix recon. error (low rank): 10.494898\nLaplacian matrix recon. error (low rank): 10.494898\n"
     ]
    },
    {
     "name": "stdout",
     "output_type": "stream",
     "text": [
      "Laplacian matrix recon. error (low rank): 10.494898\nLaplacian matrix recon. error (low rank): 10.494898\nLaplacian matrix recon. error (low rank): 10.494898\n"
     ]
    },
    {
     "name": "stdout",
     "output_type": "stream",
     "text": [
      "Laplacian matrix recon. error (low rank): 10.494898\nLaplacian matrix recon. error (low rank): 10.494898\nLaplacian matrix recon. error (low rank): 10.494898\n"
     ]
    },
    {
     "name": "stdout",
     "output_type": "stream",
     "text": [
      "Laplacian matrix recon. error (low rank): 10.494898\nLaplacian matrix recon. error (low rank): 10.494898\nLaplacian matrix recon. error (low rank): 10.494898\n"
     ]
    },
    {
     "name": "stdout",
     "output_type": "stream",
     "text": [
      "Laplacian matrix recon. error (low rank): 10.494898\nLaplacian matrix recon. error (low rank): 10.494898\nLaplacian matrix recon. error (low rank): 10.494898\n"
     ]
    },
    {
     "name": "stdout",
     "output_type": "stream",
     "text": [
      "Laplacian matrix recon. error (low rank): 10.494898\nLaplacian matrix recon. error (low rank): 10.494898\nLaplacian matrix recon. error (low rank): 10.494898\n"
     ]
    },
    {
     "name": "stdout",
     "output_type": "stream",
     "text": [
      "Laplacian matrix recon. error (low rank): 10.494898\nLaplacian matrix recon. error (low rank): 10.494898\nLaplacian matrix recon. error (low rank): 10.494898\n"
     ]
    },
    {
     "name": "stdout",
     "output_type": "stream",
     "text": [
      "Laplacian matrix recon. error (low rank): 10.494898\nLaplacian matrix recon. error (low rank): 10.494898\n"
     ]
    },
    {
     "name": "stdout",
     "output_type": "stream",
     "text": [
      "Laplacian matrix recon. error (low rank): 10.494898\nLaplacian matrix recon. error (low rank): 10.494898\nLaplacian matrix recon. error (low rank): 10.494898\n"
     ]
    },
    {
     "name": "stdout",
     "output_type": "stream",
     "text": [
      "Laplacian matrix recon. error (low rank): 10.494898\nLaplacian matrix recon. error (low rank): 10.494898\nLaplacian matrix recon. error (low rank): 10.494898\nLaplacian matrix recon. error (low rank): 10.494898\nLaplacian matrix recon. error (low rank): 10.494898\nLaplacian matrix recon. error (low rank): 10.494898\n"
     ]
    },
    {
     "name": "stdout",
     "output_type": "stream",
     "text": [
      "Laplacian matrix recon. error (low rank): 10.494898\nLaplacian matrix recon. error (low rank): 10.494898\nLaplacian matrix recon. error (low rank): 10.494898\nLaplacian matrix recon. error (low rank): 10.494898\nLaplacian matrix recon. error (low rank): 10.494898\nLaplacian matrix recon. error (low rank): 10.494898\nLaplacian matrix recon. error (low rank): 10.494898\nLaplacian matrix recon. error (low rank): 10.494898\nLaplacian matrix recon. error (low rank): 10.494898"
     ]
    },
    {
     "name": "stdout",
     "output_type": "stream",
     "text": [
      "\nLaplacian matrix recon. error (low rank): 10.494898\nLaplacian matrix recon. error (low rank): 10.494898\nLaplacian matrix recon. error (low rank): 10.494898\nLaplacian matrix recon. error (low rank): 10.494898\nLaplacian matrix recon. error (low rank): 10.494898\nLaplacian matrix recon. error (low rank): 10.494898\nLaplacian matrix recon. error (low rank): 10.494898\n"
     ]
    },
    {
     "name": "stdout",
     "output_type": "stream",
     "text": [
      "Laplacian matrix recon. error (low rank): 10.494898\nLaplacian matrix recon. error (low rank): 10.494898\nLaplacian matrix recon. error (low rank): 10.494898\nLaplacian matrix recon. error (low rank): 10.494898\nLaplacian matrix recon. error (low rank): 10.494898\nLaplacian matrix recon. error (low rank): 10.494898\nLaplacian matrix recon. error (low rank): 10.494898\n"
     ]
    },
    {
     "name": "stdout",
     "output_type": "stream",
     "text": [
      "Laplacian matrix recon. error (low rank): 10.494898\nLaplacian matrix recon. error (low rank): 10.494898\nLaplacian matrix recon. error (low rank): 10.494898\nLaplacian matrix recon. error (low rank): 10.494898\nLaplacian matrix recon. error (low rank): 10.494898\nLaplacian matrix recon. error (low rank): 10.494898\nLaplacian matrix recon. error (low rank): 10.494898\n"
     ]
    },
    {
     "name": "stdout",
     "output_type": "stream",
     "text": [
      "Laplacian matrix recon. error (low rank): 10.494898\nLaplacian matrix recon. error (low rank): 10.494898\n"
     ]
    },
    {
     "name": "stdout",
     "output_type": "stream",
     "text": [
      "Laplacian matrix recon. error (low rank): 10.494898\nLaplacian matrix recon. error (low rank): 10.494898\n"
     ]
    },
    {
     "name": "stdout",
     "output_type": "stream",
     "text": [
      "Laplacian matrix recon. error (low rank): 10.494898\nLaplacian matrix recon. error (low rank): 10.494898\nLaplacian matrix recon. error (low rank): 10.494898\n"
     ]
    },
    {
     "name": "stdout",
     "output_type": "stream",
     "text": [
      "Laplacian matrix recon. error (low rank): 10.494898\nLaplacian matrix recon. error (low rank): 10.494898\nLaplacian matrix recon. error (low rank): 10.494898\n"
     ]
    },
    {
     "name": "stdout",
     "output_type": "stream",
     "text": [
      "Laplacian matrix recon. error (low rank): 10.494898\nLaplacian matrix recon. error (low rank): 10.494898\nLaplacian matrix recon. error (low rank): 10.494898\n"
     ]
    },
    {
     "name": "stdout",
     "output_type": "stream",
     "text": [
      "Laplacian matrix recon. error (low rank): 10.494898\nLaplacian matrix recon. error (low rank): 10.494898\nLaplacian matrix recon. error (low rank): 10.494898\nLaplacian matrix recon. error (low rank): 10.494898\nLaplacian matrix recon. error (low rank): 10.494898\nLaplacian matrix recon. error (low rank): 10.494898\nLaplacian matrix recon. error (low rank): 10.494898\nLaplacian matrix recon. error (low rank): 10.494898\n"
     ]
    },
    {
     "name": "stdout",
     "output_type": "stream",
     "text": [
      "Laplacian matrix recon. error (low rank): 10.494898\nLaplacian matrix recon. error (low rank): 10.494898\nLaplacian matrix recon. error (low rank): 10.494898\nLaplacian matrix recon. error (low rank): 10.494898\nLaplacian matrix recon. error (low rank): 10.494898\nLaplacian matrix recon. error (low rank): 10.494898\nLaplacian matrix recon. error (low rank): 10.494898\nLaplacian matrix recon. error (low rank): 10.494898\nLaplacian matrix recon. error (low rank): 10.494898\nLaplacian matrix recon. error (low rank): 10.494898\n"
     ]
    },
    {
     "name": "stdout",
     "output_type": "stream",
     "text": [
      "Laplacian matrix recon. error (low rank): 10.494898\nLaplacian matrix recon. error (low rank): 10.494898\nLaplacian matrix recon. error (low rank): 10.494898\nLaplacian matrix recon. error (low rank): 10.494898\nLaplacian matrix recon. error (low rank): 10.494898\nLaplacian matrix recon. error (low rank): 10.494898\nLaplacian matrix recon. error (low rank): 10.494898\nLaplacian matrix recon. error (low rank): 10.494898\nLaplacian matrix recon. error (low rank): 10.494898\nLaplacian matrix recon. error (low rank): 10.494898\n"
     ]
    },
    {
     "name": "stdout",
     "output_type": "stream",
     "text": [
      "Laplacian matrix recon. error (low rank): 10.494898\nLaplacian matrix recon. error (low rank): 10.494898\nLaplacian matrix recon. error (low rank): 10.494898\n"
     ]
    },
    {
     "data": {
      "text/plain": [
       "0.35"
      ]
     },
     "execution_count": 30,
     "metadata": {},
     "output_type": "execute_result"
    }
   ],
   "source": [
    "from gem.embedding.lap import LaplacianEigenmaps\n",
    "\n",
    "embedding_alg = LaplacianEigenmaps(d=2)\n",
    "\n",
    "points = [compare_ordered_embeddings(embedding_alg.learn_embedding(graph=graph, edge_f=None, is_weighted=True, no_python=True)[0], embedding_alg.learn_embedding(graph=graph, edge_f=None, is_weighted=True, no_python=True)[0]) for _ in range(100)]\n",
    "\n",
    "sum(np.array(points) < 0.001) / len(points)"
   ]
  },
  {
   "cell_type": "code",
   "execution_count": 33,
   "metadata": {},
   "outputs": [
    {
     "data": {
      "text/plain": [
       "0.2"
      ]
     },
     "execution_count": 33,
     "metadata": {},
     "output_type": "execute_result"
    }
   ],
   "source": [
    "from gem.embedding.gf import GraphFactorization\n",
    "\n",
    "embedding_alg = GraphFactorization(d=2)\n",
    "\n",
    "points = [compare_ordered_embeddings(embedding_alg.learn_embedding(graph=graph, edge_f=None, is_weighted=True, no_python=True)[0], embedding_alg.learn_embedding(graph=graph, edge_f=None, is_weighted=True, no_python=True)[0]) for _ in range(10)]\n",
    "\n",
    "sum(np.array(points) < 0.001) / len(points)"
   ]
  },
  {
   "cell_type": "code",
   "execution_count": 36,
   "metadata": {},
   "outputs": [
    {
     "data": {
      "text/plain": [
       "0.4"
      ]
     },
     "execution_count": 36,
     "metadata": {},
     "output_type": "execute_result"
    }
   ],
   "source": [
    "from gem.embedding.gf import GraphFactorization\n",
    "\n",
    "embedding_alg = LocallyLinearEmbedding(d=2)\n",
    "\n",
    "points = [compare_ordered_embeddings(embedding_alg.learn_embedding(graph=graph, edge_f=None, is_weighted=True, no_python=True)[0], embedding_alg.learn_embedding(graph=graph, edge_f=None, is_weighted=True, no_python=True)[0]) for _ in range(10)]\n",
    "\n",
    "sum(np.array(points) < 0.001) / len(points)"
   ]
  },
  {
   "cell_type": "code",
   "execution_count": 21,
   "metadata": {
    "collapsed": true
   },
   "outputs": [
    {
     "name": "stdout",
     "output_type": "stream",
     "text": [
      "SVD error (low rank): 0.992269\n"
     ]
    },
    {
     "name": "stdout",
     "output_type": "stream",
     "text": [
      "SVD error (low rank): 0.992269\n"
     ]
    },
    {
     "name": "stdout",
     "output_type": "stream",
     "text": [
      "SVD error (low rank): 0.992269\n"
     ]
    },
    {
     "name": "stdout",
     "output_type": "stream",
     "text": [
      "SVD error (low rank): 0.992269\n"
     ]
    },
    {
     "name": "stdout",
     "output_type": "stream",
     "text": [
      "SVD error (low rank): 0.992269\n"
     ]
    },
    {
     "name": "stdout",
     "output_type": "stream",
     "text": [
      "SVD error (low rank): 0.992269\n"
     ]
    },
    {
     "name": "stdout",
     "output_type": "stream",
     "text": [
      "SVD error (low rank): 0.992269\n"
     ]
    },
    {
     "name": "stdout",
     "output_type": "stream",
     "text": [
      "SVD error (low rank): 0.992269\n"
     ]
    },
    {
     "name": "stdout",
     "output_type": "stream",
     "text": [
      "SVD error (low rank): 0.992269\n"
     ]
    },
    {
     "name": "stdout",
     "output_type": "stream",
     "text": [
      "SVD error (low rank): 0.992269\n"
     ]
    },
    {
     "name": "stdout",
     "output_type": "stream",
     "text": [
      "SVD error (low rank): 0.992269\n"
     ]
    },
    {
     "name": "stdout",
     "output_type": "stream",
     "text": [
      "SVD error (low rank): 0.992269\n"
     ]
    },
    {
     "name": "stdout",
     "output_type": "stream",
     "text": [
      "SVD error (low rank): 0.992269\n"
     ]
    },
    {
     "name": "stdout",
     "output_type": "stream",
     "text": [
      "SVD error (low rank): 0.992269\n"
     ]
    },
    {
     "name": "stdout",
     "output_type": "stream",
     "text": [
      "SVD error (low rank): 0.992269\n"
     ]
    },
    {
     "name": "stdout",
     "output_type": "stream",
     "text": [
      "SVD error (low rank): 0.992269\n"
     ]
    },
    {
     "name": "stdout",
     "output_type": "stream",
     "text": [
      "SVD error (low rank): 0.992269\n"
     ]
    },
    {
     "name": "stdout",
     "output_type": "stream",
     "text": [
      "SVD error (low rank): 0.992269\n"
     ]
    },
    {
     "name": "stdout",
     "output_type": "stream",
     "text": [
      "SVD error (low rank): 0.992269\n"
     ]
    },
    {
     "name": "stdout",
     "output_type": "stream",
     "text": [
      "SVD error (low rank): 0.992269\n"
     ]
    },
    {
     "data": {
      "text/plain": [
       "0.2"
      ]
     },
     "execution_count": 21,
     "metadata": {},
     "output_type": "execute_result"
    }
   ],
   "source": [
    "from gem.embedding.gf import GraphFactorization\n",
    "from gem.embedding.hope import HOPE\n",
    "\n",
    "embedding_alg = HOPE(d=4, beta=0.01)\n",
    "\n",
    "points = [compare_ordered_embeddings(embedding_alg.learn_embedding(graph=graph, edge_f=None, is_weighted=True, no_python=True)[0], embedding_alg.learn_embedding(graph=graph, edge_f=None, is_weighted=True, no_python=True)[0]) for _ in range(10)]\n",
    "\n",
    "sum(np.array(points) < 0.001) / len(points)"
   ]
  },
  {
   "cell_type": "code",
   "execution_count": null,
   "metadata": {},
   "outputs": [],
   "source": []
  }
 ],
 "metadata": {
  "kernelspec": {
   "display_name": "Python 2",
   "language": "python",
   "name": "python2"
  },
  "language_info": {
   "codemirror_mode": {
    "name": "ipython",
    "version": 2
   },
   "file_extension": ".py",
   "mimetype": "text/x-python",
   "name": "python",
   "nbconvert_exporter": "python",
   "pygments_lexer": "ipython2",
   "version": "2.7.6"
  }
 },
 "nbformat": 4,
 "nbformat_minor": 0
}
