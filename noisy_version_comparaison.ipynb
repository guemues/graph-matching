{
 "cells": [
  {
   "cell_type": "code",
   "execution_count": 4,
   "metadata": {},
   "outputs": [],
   "source": [
    "import numpy as np\n",
    "import networkx as nx\n",
    "import matplotlib.pyplot as plt\n",
    "%matplotlib inline  \n",
    "\n",
    "from gem.embedding.lle import LocallyLinearEmbedding\n",
    "from matching import best_compare_mirror_embeddings, compare_difference_graph\n",
    "from matching import noisy_version\n",
    "from gem.embedding.hope import HOPE"
   ]
  },
  {
   "cell_type": "code",
   "execution_count": 6,
   "metadata": {},
   "outputs": [],
   "source": [
    "\n",
    "graph = nx.gnp_random_graph(1000, 0.01)"
   ]
  },
  {
   "cell_type": "code",
   "execution_count": 7,
   "metadata": {},
   "outputs": [
    {
     "name": "stdout",
     "output_type": "stream",
     "text": [
      "SVD error (low rank): 0.993456\n"
     ]
    }
   ],
   "source": [
    "embedding = HOPE(d=2, beta=0.01)\n",
    "\n",
    "graph_embeddings, t = embedding.learn_embedding(graph=graph, no_python=True)"
   ]
  },
  {
   "cell_type": "code",
   "execution_count": 8,
   "metadata": {},
   "outputs": [],
   "source": [
    "noisy_graphs = [noisy_version(graph, q=i) for i in np.arange(0.00001, 0.001, 0.00001)]"
   ]
  },
  {
   "cell_type": "code",
   "execution_count": 13,
   "metadata": {
    "collapsed": true
   },
   "outputs": [
    {
     "name": "stderr",
     "output_type": "stream",
     "text": [
      "INFO:matching.matching:[0.02956547664991079, 0.020906527684223325, 0.02090652768422332, 6.40667810566727e-05]\n"
     ]
    },
    {
     "name": "stdout",
     "output_type": "stream",
     "text": [
      "SVD error (low rank): 0.994151\n"
     ]
    },
    {
     "name": "stderr",
     "output_type": "stream",
     "text": [
      "INFO:matching.matching:[0.029595802715603498, 0.020929487465428286, 0.020929487465428286, 0.00017353362567514645]\n"
     ]
    },
    {
     "name": "stdout",
     "output_type": "stream",
     "text": [
      "SVD error (low rank): 0.995744\n"
     ]
    },
    {
     "name": "stderr",
     "output_type": "stream",
     "text": [
      "INFO:matching.matching:[0.0002340753429689849, 0.02094101402605051, 0.0209410140260505, 0.029611028439789095]\n"
     ]
    },
    {
     "name": "stdout",
     "output_type": "stream",
     "text": [
      "SVD error (low rank): 0.996745\n"
     ]
    },
    {
     "name": "stderr",
     "output_type": "stream",
     "text": [
      "INFO:matching.matching:[0.00021219484551800305, 0.020937717711754338, 0.020937717711754334, 0.029607132335168585]\n"
     ]
    },
    {
     "name": "stdout",
     "output_type": "stream",
     "text": [
      "SVD error (low rank): 0.996647\n"
     ]
    },
    {
     "name": "stderr",
     "output_type": "stream",
     "text": [
      "INFO:matching.matching:[0.0003059770089311256, 0.02097610589310063, 0.02097610589310063, 0.029658741905104896]\n"
     ]
    },
    {
     "name": "stdout",
     "output_type": "stream",
     "text": [
      "SVD error (low rank): 0.999444\n"
     ]
    },
    {
     "name": "stderr",
     "output_type": "stream",
     "text": [
      "INFO:matching.matching:[0.0003535800606470976, 0.02097263871909246, 0.020972638719092468, 0.029652670519712654]\n"
     ]
    },
    {
     "name": "stdout",
     "output_type": "stream",
     "text": [
      "SVD error (low rank): 0.999191\n"
     ]
    },
    {
     "name": "stderr",
     "output_type": "stream",
     "text": [
      "INFO:matching.matching:[0.0003688620104893875, 0.020977852162387393, 0.02097785216238739, 0.02966023621840049]\n"
     ]
    },
    {
     "name": "stdout",
     "output_type": "stream",
     "text": [
      "SVD error (low rank): 0.999796\n"
     ]
    },
    {
     "name": "stderr",
     "output_type": "stream",
     "text": [
      "INFO:matching.matching:[0.000502436172158309, 0.021027572842786436, 0.021027572842786425, 0.029726265306823266]\n"
     ]
    },
    {
     "name": "stdout",
     "output_type": "stream",
     "text": [
      "SVD error (low rank): 1.003476\n"
     ]
    },
    {
     "name": "stderr",
     "output_type": "stream",
     "text": [
      "INFO:matching.matching:[0.029680379419895705, 0.020993921730948117, 0.020993921730948106, 0.0004429688124827468]\n"
     ]
    },
    {
     "name": "stdout",
     "output_type": "stream",
     "text": [
      "SVD error (low rank): 1.001568\n"
     ]
    },
    {
     "name": "stderr",
     "output_type": "stream",
     "text": [
      "INFO:matching.matching:[0.0004999111334926484, 0.021020884535038704, 0.0210208845350387, 0.029715980267634324]\n"
     ]
    },
    {
     "name": "stdout",
     "output_type": "stream",
     "text": [
      "SVD error (low rank): 1.002466\n"
     ]
    },
    {
     "name": "stderr",
     "output_type": "stream",
     "text": [
      "INFO:matching.matching:[0.0004980936791395517, 0.02103007998208262, 0.02103007998208262, 0.029728862669089792]\n"
     ]
    },
    {
     "name": "stdout",
     "output_type": "stream",
     "text": [
      "SVD error (low rank): 1.003682\n"
     ]
    },
    {
     "name": "stderr",
     "output_type": "stream",
     "text": [
      "INFO:matching.matching:[0.0005886888680781951, 0.021060062993004912, 0.021060062993004912, 0.029768354028976457]\n"
     ]
    },
    {
     "name": "stdout",
     "output_type": "stream",
     "text": [
      "SVD error (low rank): 1.005934\n"
     ]
    },
    {
     "name": "stderr",
     "output_type": "stream",
     "text": [
      "INFO:matching.matching:[0.029765355949412303, 0.021058715783138362, 0.021058715783138355, 0.0006181738721403647]\n"
     ]
    },
    {
     "name": "stdout",
     "output_type": "stream",
     "text": [
      "SVD error (low rank): 1.005789\n"
     ]
    },
    {
     "name": "stderr",
     "output_type": "stream",
     "text": [
      "INFO:matching.matching:[0.0006087128454224446, 0.021062281183787827, 0.021062281183787824, 0.029770948343662854]\n"
     ]
    },
    {
     "name": "stdout",
     "output_type": "stream",
     "text": [
      "SVD error (low rank): 1.006232\n"
     ]
    },
    {
     "name": "stderr",
     "output_type": "stream",
     "text": [
      "INFO:matching.matching:[0.0006309789392249855, 0.021079808356975534, 0.021079808356975527, 0.029795439482745757]\n"
     ]
    },
    {
     "name": "stdout",
     "output_type": "stream",
     "text": [
      "SVD error (low rank): 1.007737\n"
     ]
    },
    {
     "name": "stderr",
     "output_type": "stream",
     "text": [
      "INFO:matching.matching:[0.02987503460940937, 0.021141122102837064, 0.021141122102837067, 0.0007697860963974974]\n"
     ]
    },
    {
     "name": "stdout",
     "output_type": "stream",
     "text": [
      "SVD error (low rank): 1.011885\n"
     ]
    },
    {
     "name": "stderr",
     "output_type": "stream",
     "text": [
      "INFO:matching.matching:[0.029881002701804472, 0.021144642700302387, 0.021144642700302384, 0.0007396902890730552]\n"
     ]
    },
    {
     "name": "stdout",
     "output_type": "stream",
     "text": [
      "SVD error (low rank): 1.012123\n"
     ]
    },
    {
     "name": "stderr",
     "output_type": "stream",
     "text": [
      "INFO:matching.matching:[0.029833288494904436, 0.021109656915232793, 0.021109656915232793, 0.0007052209370378654]\n"
     ]
    },
    {
     "name": "stdout",
     "output_type": "stream",
     "text": [
      "SVD error (low rank): 1.009728\n"
     ]
    },
    {
     "name": "stderr",
     "output_type": "stream",
     "text": [
      "INFO:matching.matching:[0.029859907713659734, 0.02112977869480068, 0.02112977869480068, 0.0007862346296211627]\n"
     ]
    },
    {
     "name": "stdout",
     "output_type": "stream",
     "text": [
      "SVD error (low rank): 1.011295\n"
     ]
    },
    {
     "name": "stderr",
     "output_type": "stream",
     "text": [
      "INFO:matching.matching:[0.029907623566995105, 0.021165930427147393, 0.02116593042714738, 0.0008186683635822065]\n"
     ]
    },
    {
     "name": "stdout",
     "output_type": "stream",
     "text": [
      "SVD error (low rank): 1.013675\n"
     ]
    },
    {
     "name": "stderr",
     "output_type": "stream",
     "text": [
      "INFO:matching.matching:[0.029866844579222267, 0.02113675174291555, 0.021136751742915558, 0.0008497749539255089]\n"
     ]
    },
    {
     "name": "stdout",
     "output_type": "stream",
     "text": [
      "SVD error (low rank): 1.012236\n"
     ]
    },
    {
     "name": "stderr",
     "output_type": "stream",
     "text": [
      "INFO:matching.matching:[0.029893260924487068, 0.02115477419864313, 0.021154774198643117, 0.0008205075105363059]\n"
     ]
    },
    {
     "name": "stdout",
     "output_type": "stream",
     "text": [
      "SVD error (low rank): 1.013585\n"
     ]
    },
    {
     "name": "stderr",
     "output_type": "stream",
     "text": [
      "INFO:matching.matching:[0.000889242970873232, 0.02120210445125067, 0.02120210445125066, 0.029955346288586805]\n"
     ]
    },
    {
     "name": "stdout",
     "output_type": "stream",
     "text": [
      "SVD error (low rank): 1.016475\n"
     ]
    },
    {
     "name": "stderr",
     "output_type": "stream",
     "text": [
      "INFO:matching.matching:[0.02994529615446347, 0.021195237840311573, 0.021195237840311573, 0.0008866180773440345]\n"
     ]
    },
    {
     "name": "stdout",
     "output_type": "stream",
     "text": [
      "SVD error (low rank): 1.015667\n"
     ]
    },
    {
     "name": "stderr",
     "output_type": "stream",
     "text": [
      "INFO:matching.matching:[0.0008840917552111256, 0.02120493674594965, 0.021204936745949667, 0.02996089343050997]\n"
     ]
    },
    {
     "name": "stdout",
     "output_type": "stream",
     "text": [
      "SVD error (low rank): 1.016851\n"
     ]
    },
    {
     "name": "stderr",
     "output_type": "stream",
     "text": [
      "INFO:matching.matching:[0.029980667101516197, 0.02122250194421262, 0.021222501944212623, 0.0009558927534352342]\n"
     ]
    },
    {
     "name": "stdout",
     "output_type": "stream",
     "text": [
      "SVD error (low rank): 1.018438\n"
     ]
    },
    {
     "name": "stderr",
     "output_type": "stream",
     "text": [
      "INFO:matching.matching:[0.02993017960715434, 0.021181927540279703, 0.021181927540279696, 0.0008551543958460186]\n"
     ]
    },
    {
     "name": "stdout",
     "output_type": "stream",
     "text": [
      "SVD error (low rank): 1.015499\n"
     ]
    },
    {
     "name": "stderr",
     "output_type": "stream",
     "text": [
      "INFO:matching.matching:[0.0009781452682072578, 0.02125228578867429, 0.02125228578867429, 0.030021359240716493]\n"
     ]
    },
    {
     "name": "stdout",
     "output_type": "stream",
     "text": [
      "SVD error (low rank): 1.020395\n"
     ]
    },
    {
     "name": "stderr",
     "output_type": "stream",
     "text": [
      "INFO:matching.matching:[0.0009185092736789025, 0.02120301925699404, 0.02120301925699404, 0.029956707007989396]\n"
     ]
    },
    {
     "name": "stdout",
     "output_type": "stream",
     "text": [
      "SVD error (low rank): 1.017005\n"
     ]
    },
    {
     "name": "stderr",
     "output_type": "stream",
     "text": [
      "INFO:matching.matching:[0.030014801524650126, 0.02124734866893574, 0.021247348668935736, 0.0010073421944118038]\n"
     ]
    },
    {
     "name": "stdout",
     "output_type": "stream",
     "text": [
      "SVD error (low rank): 1.020269\n"
     ]
    },
    {
     "name": "stderr",
     "output_type": "stream",
     "text": [
      "INFO:matching.matching:[0.03008877463446335, 0.02130317314158963, 0.02130317314158963, 0.0010684376996287841]\n"
     ]
    },
    {
     "name": "stdout",
     "output_type": "stream",
     "text": [
      "SVD error (low rank): 1.024782\n"
     ]
    },
    {
     "name": "stderr",
     "output_type": "stream",
     "text": [
      "INFO:matching.matching:[0.030019230938399956, 0.02125138243089304, 0.021251382430893043, 0.0009966806191733571]\n"
     ]
    },
    {
     "name": "stdout",
     "output_type": "stream",
     "text": [
      "SVD error (low rank): 1.020594\n"
     ]
    },
    {
     "name": "stderr",
     "output_type": "stream",
     "text": [
      "INFO:matching.matching:[0.0011196379073518106, 0.021288174126098874, 0.02128817412609888, 0.03006511059150473]\n"
     ]
    },
    {
     "name": "stdout",
     "output_type": "stream",
     "text": [
      "SVD error (low rank): 1.023269\n"
     ]
    },
    {
     "name": "stderr",
     "output_type": "stream",
     "text": [
      "INFO:matching.matching:[0.030127435358154788, 0.021333855760542426, 0.02133385576054243, 0.0011004385037031036]\n"
     ]
    },
    {
     "name": "stdout",
     "output_type": "stream",
     "text": [
      "SVD error (low rank): 1.026215\n"
     ]
    },
    {
     "name": "stderr",
     "output_type": "stream",
     "text": [
      "INFO:matching.matching:[0.0010814534451999405, 0.021321381763080495, 0.021321381763080495, 0.03011397758636857]\n"
     ]
    },
    {
     "name": "stdout",
     "output_type": "stream",
     "text": [
      "SVD error (low rank): 1.026087\n"
     ]
    },
    {
     "name": "stderr",
     "output_type": "stream",
     "text": [
      "INFO:matching.matching:[0.030171882610393826, 0.02136967505835937, 0.021369675058359378, 0.0012208469961477357]\n"
     ]
    },
    {
     "name": "stdout",
     "output_type": "stream",
     "text": [
      "SVD error (low rank): 1.029090\n"
     ]
    },
    {
     "name": "stderr",
     "output_type": "stream",
     "text": [
      "INFO:matching.matching:[0.0012056158497434682, 0.021371485925645296, 0.021371485925645303, 0.030177487212069833]\n"
     ]
    },
    {
     "name": "stdout",
     "output_type": "stream",
     "text": [
      "SVD error (low rank): 1.029150\n"
     ]
    },
    {
     "name": "stderr",
     "output_type": "stream",
     "text": [
      "INFO:matching.matching:[0.0012272112142170063, 0.0214016916725173, 0.0214016916725173, 0.03021790661833973]\n"
     ]
    },
    {
     "name": "stdout",
     "output_type": "stream",
     "text": [
      "SVD error (low rank): 1.031413\n"
     ]
    },
    {
     "name": "stderr",
     "output_type": "stream",
     "text": [
      "INFO:matching.matching:[0.0012797076023981055, 0.021434872726896065, 0.02143487272689607, 0.030259714205343537]\n"
     ]
    },
    {
     "name": "stdout",
     "output_type": "stream",
     "text": [
      "SVD error (low rank): 1.033529\n"
     ]
    },
    {
     "name": "stderr",
     "output_type": "stream",
     "text": [
      "INFO:matching.matching:[0.030212123277276424, 0.02139805697573212, 0.021398056975732126, 0.0012237131591354398]\n"
     ]
    },
    {
     "name": "stdout",
     "output_type": "stream",
     "text": [
      "SVD error (low rank): 1.031119\n"
     ]
    },
    {
     "name": "stderr",
     "output_type": "stream",
     "text": [
      "INFO:matching.matching:[0.030229078310158357, 0.021411088002854767, 0.021411088002854767, 0.001239020660315419]\n"
     ]
    },
    {
     "name": "stdout",
     "output_type": "stream",
     "text": [
      "SVD error (low rank): 1.031877\n"
     ]
    },
    {
     "name": "stderr",
     "output_type": "stream",
     "text": [
      "INFO:matching.matching:[0.030247946675343928, 0.021424462554129647, 0.021424462554129654, 0.001261969805680867]\n"
     ]
    },
    {
     "name": "stdout",
     "output_type": "stream",
     "text": [
      "SVD error (low rank): 1.033553\n"
     ]
    },
    {
     "name": "stderr",
     "output_type": "stream",
     "text": [
      "INFO:matching.matching:[0.0012817841586040622, 0.02144832810665029, 0.021448328106650275, 0.030279981456300842]\n"
     ]
    },
    {
     "name": "stdout",
     "output_type": "stream",
     "text": [
      "SVD error (low rank): 1.035236\n"
     ]
    },
    {
     "name": "stderr",
     "output_type": "stream",
     "text": [
      "INFO:matching.matching:[0.0012829448335722796, 0.021451306673338354, 0.02145130667333835, 0.0302829109880208]\n"
     ]
    },
    {
     "name": "stdout",
     "output_type": "stream",
     "text": [
      "SVD error (low rank): 1.035165\n"
     ]
    },
    {
     "name": "stderr",
     "output_type": "stream",
     "text": [
      "INFO:matching.matching:[0.030298680629543173, 0.021469149298229625, 0.021469149298229625, 0.0013861241077994192]\n"
     ]
    },
    {
     "name": "stdout",
     "output_type": "stream",
     "text": [
      "SVD error (low rank): 1.035922\n"
     ]
    },
    {
     "name": "stderr",
     "output_type": "stream",
     "text": [
      "INFO:matching.matching:[0.0013183637679691554, 0.021471984555282302, 0.021471984555282302, 0.030310918440024558]\n"
     ]
    },
    {
     "name": "stdout",
     "output_type": "stream",
     "text": [
      "SVD error (low rank): 1.037095\n"
     ]
    },
    {
     "name": "stderr",
     "output_type": "stream",
     "text": [
      "INFO:matching.matching:[0.03037582443634877, 0.021523757336446056, 0.021523757336446056, 0.0013790351665907941]\n"
     ]
    },
    {
     "name": "stdout",
     "output_type": "stream",
     "text": [
      "SVD error (low rank): 1.040733\n"
     ]
    },
    {
     "name": "stderr",
     "output_type": "stream",
     "text": [
      "INFO:matching.matching:[0.001415983166590908, 0.02150412021720261, 0.021504120217202615, 0.03034925497270264]\n"
     ]
    },
    {
     "name": "stdout",
     "output_type": "stream",
     "text": [
      "SVD error (low rank): 1.039388\n"
     ]
    },
    {
     "name": "stderr",
     "output_type": "stream",
     "text": [
      "INFO:matching.matching:[0.0014030950181110186, 0.02149830506504127, 0.021498305065041273, 0.03033901383063097]\n"
     ]
    },
    {
     "name": "stdout",
     "output_type": "stream",
     "text": [
      "SVD error (low rank): 1.038486\n"
     ]
    },
    {
     "name": "stderr",
     "output_type": "stream",
     "text": [
      "INFO:matching.matching:[0.030362836865425548, 0.02151300232782937, 0.021513002327829375, 0.0014206127013415444]\n"
     ]
    },
    {
     "name": "stdout",
     "output_type": "stream",
     "text": [
      "SVD error (low rank): 1.040157\n"
     ]
    },
    {
     "name": "stderr",
     "output_type": "stream",
     "text": [
      "INFO:matching.matching:[0.001485501357591969, 0.021561856840710082, 0.02156185684071009, 0.030426317329408682]\n"
     ]
    },
    {
     "name": "stdout",
     "output_type": "stream",
     "text": [
      "SVD error (low rank): 1.043777\n"
     ]
    },
    {
     "name": "stdout",
     "output_type": "stream",
     "text": [
      "SVD error (low rank): 1.045095\n"
     ]
    },
    {
     "name": "stderr",
     "output_type": "stream",
     "text": [
      "INFO:matching.matching:[0.0015070645425065028, 0.02159519291542916, 0.021595192915429173, 0.03046454731398943]\n"
     ]
    },
    {
     "name": "stderr",
     "output_type": "stream",
     "text": [
      "INFO:matching.matching:[0.03042649672123278, 0.021562134845102533, 0.021562134845102537, 0.001483163915921394]\n"
     ]
    },
    {
     "name": "stdout",
     "output_type": "stream",
     "text": [
      "SVD error (low rank): 1.044540\n"
     ]
    },
    {
     "name": "stderr",
     "output_type": "stream",
     "text": [
      "INFO:matching.matching:[0.0304921525735027, 0.021614368862199976, 0.02161436886219998, 0.0015548693840309981]\n"
     ]
    },
    {
     "name": "stdout",
     "output_type": "stream",
     "text": [
      "SVD error (low rank): 1.047739\n"
     ]
    },
    {
     "name": "stderr",
     "output_type": "stream",
     "text": [
      "INFO:matching.matching:[0.0015508569244808727, 0.021590217968765143, 0.02159021796876514, 0.030460172275342933]\n"
     ]
    },
    {
     "name": "stdout",
     "output_type": "stream",
     "text": [
      "SVD error (low rank): 1.045232\n"
     ]
    },
    {
     "name": "stderr",
     "output_type": "stream",
     "text": [
      "INFO:matching.matching:[0.03046400214524734, 0.02159358447192827, 0.02159358447192826, 0.0015119887182915095]\n"
     ]
    },
    {
     "name": "stdout",
     "output_type": "stream",
     "text": [
      "SVD error (low rank): 1.045249\n"
     ]
    },
    {
     "name": "stderr",
     "output_type": "stream",
     "text": [
      "INFO:matching.matching:[0.030551191638747137, 0.021659878484661083, 0.02165987848466108, 0.0015856228644225302]\n"
     ]
    },
    {
     "name": "stdout",
     "output_type": "stream",
     "text": [
      "SVD error (low rank): 1.050026\n"
     ]
    },
    {
     "name": "stderr",
     "output_type": "stream",
     "text": [
      "INFO:matching.matching:[0.03051116671682976, 0.02162730816940253, 0.021627308169402542, 0.001537357744496489]\n"
     ]
    },
    {
     "name": "stdout",
     "output_type": "stream",
     "text": [
      "SVD error (low rank): 1.048046\n"
     ]
    },
    {
     "name": "stderr",
     "output_type": "stream",
     "text": [
      "INFO:matching.matching:[0.0016467978566950348, 0.021631965201930933, 0.021631965201930923, 0.030509424697449366]\n"
     ]
    },
    {
     "name": "stdout",
     "output_type": "stream",
     "text": [
      "SVD error (low rank): 1.048939\n"
     ]
    },
    {
     "name": "stderr",
     "output_type": "stream",
     "text": [
      "INFO:matching.matching:[0.0016618794888922804, 0.021648614861493325, 0.02164861486149332, 0.03053288432917013]\n"
     ]
    },
    {
     "name": "stdout",
     "output_type": "stream",
     "text": [
      "SVD error (low rank): 1.049081\n"
     ]
    },
    {
     "name": "stderr",
     "output_type": "stream",
     "text": [
      "INFO:matching.matching:[0.030622920756854893, 0.02171518985174533, 0.021715189851745337, 0.0016712097314085328]\n"
     ]
    },
    {
     "name": "stdout",
     "output_type": "stream",
     "text": [
      "SVD error (low rank): 1.054319\n"
     ]
    },
    {
     "name": "stderr",
     "output_type": "stream",
     "text": [
      "INFO:matching.matching:[0.03056667471733109, 0.021672434607820007, 0.02167243460782001, 0.0016017788506538823]\n"
     ]
    },
    {
     "name": "stdout",
     "output_type": "stream",
     "text": [
      "SVD error (low rank): 1.051651\n"
     ]
    },
    {
     "name": "stderr",
     "output_type": "stream",
     "text": [
      "INFO:matching.matching:[0.030622526962315905, 0.02171205303687913, 0.02171205303687913, 0.0016703153034834575]\n"
     ]
    },
    {
     "name": "stdout",
     "output_type": "stream",
     "text": [
      "SVD error (low rank): 1.054023\n"
     ]
    },
    {
     "name": "stderr",
     "output_type": "stream",
     "text": [
      "INFO:matching.matching:[0.030546127856152325, 0.021653208784099275, 0.021653208784099272, 0.001566900796889886]\n"
     ]
    },
    {
     "name": "stdout",
     "output_type": "stream",
     "text": [
      "SVD error (low rank): 1.050524\n"
     ]
    },
    {
     "name": "stderr",
     "output_type": "stream",
     "text": [
      "INFO:matching.matching:[0.03061449966862887, 0.021709284271860137, 0.021709284271860137, 0.0016661123071534261]\n"
     ]
    },
    {
     "name": "stdout",
     "output_type": "stream",
     "text": [
      "SVD error (low rank): 1.054543\n"
     ]
    },
    {
     "name": "stderr",
     "output_type": "stream",
     "text": [
      "INFO:matching.matching:[0.03060071155573788, 0.021691827001198954, 0.021691827001198958, 0.0015758180981685754]\n"
     ]
    },
    {
     "name": "stdout",
     "output_type": "stream",
     "text": [
      "SVD error (low rank): 1.054154\n"
     ]
    },
    {
     "name": "stderr",
     "output_type": "stream",
     "text": [
      "INFO:matching.matching:[0.030693088206374706, 0.021765220796763254, 0.021765220796763247, 0.00167335935760656]\n"
     ]
    },
    {
     "name": "stdout",
     "output_type": "stream",
     "text": [
      "SVD error (low rank): 1.058862\n"
     ]
    },
    {
     "name": "stderr",
     "output_type": "stream",
     "text": [
      "INFO:matching.matching:[0.0017481269253920495, 0.021747288022956734, 0.021747288022956727, 0.030666531101644592]\n"
     ]
    },
    {
     "name": "stdout",
     "output_type": "stream",
     "text": [
      "SVD error (low rank): 1.056658\n"
     ]
    },
    {
     "name": "stderr",
     "output_type": "stream",
     "text": [
      "INFO:matching.matching:[0.0017485661418734763, 0.021759376760852156, 0.021759376760852163, 0.030683075373351784]\n"
     ]
    },
    {
     "name": "stdout",
     "output_type": "stream",
     "text": [
      "SVD error (low rank): 1.058523\n"
     ]
    },
    {
     "name": "stderr",
     "output_type": "stream",
     "text": [
      "INFO:matching.matching:[0.0018521475381177138, 0.021839737192077335, 0.021839737192077328, 0.030782424591565136]\n"
     ]
    },
    {
     "name": "stdout",
     "output_type": "stream",
     "text": [
      "SVD error (low rank): 1.063523\n"
     ]
    },
    {
     "name": "stderr",
     "output_type": "stream",
     "text": [
      "INFO:matching.matching:[0.0016502829279289358, 0.021759967151147794, 0.021759967151147797, 0.03068966825687077]\n"
     ]
    },
    {
     "name": "stdout",
     "output_type": "stream",
     "text": [
      "SVD error (low rank): 1.058796\n"
     ]
    },
    {
     "name": "stderr",
     "output_type": "stream",
     "text": [
      "INFO:matching.matching:[0.0018352299427722785, 0.021800714813937576, 0.021800714813937562, 0.03072947612816069]\n"
     ]
    },
    {
     "name": "stdout",
     "output_type": "stream",
     "text": [
      "SVD error (low rank): 1.060597\n"
     ]
    },
    {
     "name": "stderr",
     "output_type": "stream",
     "text": [
      "INFO:matching.matching:[0.030793542607698093, 0.021845680557190522, 0.021845680557190515, 0.0018001376969632333]\n"
     ]
    },
    {
     "name": "stdout",
     "output_type": "stream",
     "text": [
      "SVD error (low rank): 1.064499\n"
     ]
    },
    {
     "name": "stderr",
     "output_type": "stream",
     "text": [
      "INFO:matching.matching:[0.030707873913927507, 0.021778182329039462, 0.021778182329039456, 0.0017382431663871092]\n"
     ]
    },
    {
     "name": "stdout",
     "output_type": "stream",
     "text": [
      "SVD error (low rank): 1.059756\n"
     ]
    },
    {
     "name": "stderr",
     "output_type": "stream",
     "text": [
      "INFO:matching.matching:[0.03078352657197496, 0.02184075356617485, 0.021840753566174854, 0.0018626465482665957]\n"
     ]
    },
    {
     "name": "stdout",
     "output_type": "stream",
     "text": [
      "SVD error (low rank): 1.062971\n"
     ]
    },
    {
     "name": "stderr",
     "output_type": "stream",
     "text": [
      "INFO:matching.matching:[0.0017936062145516229, 0.02181930518152443, 0.021819305181524428, 0.030760890949438662]\n"
     ]
    },
    {
     "name": "stdout",
     "output_type": "stream",
     "text": [
      "SVD error (low rank): 1.062823\n"
     ]
    },
    {
     "name": "stderr",
     "output_type": "stream",
     "text": [
      "INFO:matching.matching:[0.030796300183524007, 0.021846122395937955, 0.021846122395937962, 0.0018113604345342323]\n"
     ]
    },
    {
     "name": "stdout",
     "output_type": "stream",
     "text": [
      "SVD error (low rank): 1.064390\n"
     ]
    },
    {
     "name": "stderr",
     "output_type": "stream",
     "text": [
      "INFO:matching.matching:[0.001843206151764218, 0.021839511485503445, 0.021839511485503463, 0.030782053740384178]\n"
     ]
    },
    {
     "name": "stdout",
     "output_type": "stream",
     "text": [
      "SVD error (low rank): 1.065084\n"
     ]
    },
    {
     "name": "stderr",
     "output_type": "stream",
     "text": [
      "INFO:matching.matching:[0.030861823437056013, 0.021899275099610125, 0.02189927509961012, 0.0018704751194064118]\n"
     ]
    },
    {
     "name": "stdout",
     "output_type": "stream",
     "text": [
      "SVD error (low rank): 1.067744\n"
     ]
    },
    {
     "name": "stderr",
     "output_type": "stream",
     "text": [
      "INFO:matching.matching:[0.0018470320661946437, 0.021830229795782054, 0.021830229795782054, 0.030771007784294712]\n"
     ]
    },
    {
     "name": "stdout",
     "output_type": "stream",
     "text": [
      "SVD error (low rank): 1.063482\n"
     ]
    },
    {
     "name": "stderr",
     "output_type": "stream",
     "text": [
      "INFO:matching.matching:[0.030950280566315807, 0.021971821190564372, 0.021971821190564372, 0.002022175121006825]\n"
     ]
    },
    {
     "name": "stdout",
     "output_type": "stream",
     "text": [
      "SVD error (low rank): 1.072936\n"
     ]
    },
    {
     "name": "stderr",
     "output_type": "stream",
     "text": [
      "INFO:matching.matching:[0.03086316142845702, 0.021905976336577558, 0.02190597633657756, 0.0019491600469818487]\n"
     ]
    },
    {
     "name": "stdout",
     "output_type": "stream",
     "text": [
      "SVD error (low rank): 1.067710\n"
     ]
    },
    {
     "name": "stderr",
     "output_type": "stream",
     "text": [
      "INFO:matching.matching:[0.03096169173551873, 0.021973047858114738, 0.021973047858114745, 0.0019397894423349984]\n"
     ]
    },
    {
     "name": "stdout",
     "output_type": "stream",
     "text": [
      "SVD error (low rank): 1.073625\n"
     ]
    },
    {
     "name": "stderr",
     "output_type": "stream",
     "text": [
      "INFO:matching.matching:[0.03096549279782367, 0.021984626367074354, 0.021984626367074364, 0.0020734538350303893]\n"
     ]
    },
    {
     "name": "stdout",
     "output_type": "stream",
     "text": [
      "SVD error (low rank): 1.074746\n"
     ]
    },
    {
     "name": "stderr",
     "output_type": "stream",
     "text": [
      "INFO:matching.matching:[0.002058392843494786, 0.02202147655188652, 0.02202147655188653, 0.03101570145273093]\n"
     ]
    },
    {
     "name": "stdout",
     "output_type": "stream",
     "text": [
      "SVD error (low rank): 1.077508\n"
     ]
    },
    {
     "name": "stderr",
     "output_type": "stream",
     "text": [
      "INFO:matching.matching:[0.030962677082439837, 0.021976116834327167, 0.02197611683432716, 0.0019435593266877878]\n"
     ]
    },
    {
     "name": "stdout",
     "output_type": "stream",
     "text": [
      "SVD error (low rank): 1.073660\n"
     ]
    },
    {
     "name": "stderr",
     "output_type": "stream",
     "text": [
      "INFO:matching.matching:[0.030978438122717555, 0.02198843688294294, 0.021988436882942945, 0.0020042463705632974]\n"
     ]
    },
    {
     "name": "stdout",
     "output_type": "stream",
     "text": [
      "SVD error (low rank): 1.074342\n"
     ]
    },
    {
     "name": "stderr",
     "output_type": "stream",
     "text": [
      "INFO:matching.matching:[0.0019304493994794542, 0.02192609637855245, 0.02192609637855246, 0.030893020076281547]\n"
     ]
    },
    {
     "name": "stdout",
     "output_type": "stream",
     "text": [
      "SVD error (low rank): 1.069764\n"
     ]
    },
    {
     "name": "stderr",
     "output_type": "stream",
     "text": [
      "INFO:matching.matching:[0.0019286276792513815, 0.02195338870725149, 0.021953388707251484, 0.030939436389297147]\n"
     ]
    },
    {
     "name": "stdout",
     "output_type": "stream",
     "text": [
      "SVD error (low rank): 1.073654\n"
     ]
    },
    {
     "name": "stderr",
     "output_type": "stream",
     "text": [
      "INFO:matching.matching:[0.031035844663673394, 0.02203380194529812, 0.02203380194529812, 0.002048189628655794]\n"
     ]
    },
    {
     "name": "stdout",
     "output_type": "stream",
     "text": [
      "SVD error (low rank): 1.077811\n"
     ]
    },
    {
     "name": "stderr",
     "output_type": "stream",
     "text": [
      "INFO:matching.matching:[0.0020352495238868647, 0.021985416354188353, 0.021985416354188353, 0.030974244702584065]\n"
     ]
    },
    {
     "name": "stdout",
     "output_type": "stream",
     "text": [
      "SVD error (low rank): 1.074554\n"
     ]
    },
    {
     "name": "stderr",
     "output_type": "stream",
     "text": [
      "INFO:matching.matching:[0.031081202296197118, 0.02206790106573071, 0.022067901065730706, 0.002081884006312764]\n"
     ]
    },
    {
     "name": "stdout",
     "output_type": "stream",
     "text": [
      "SVD error (low rank): 1.080430\n"
     ]
    },
    {
     "name": "stderr",
     "output_type": "stream",
     "text": [
      "INFO:matching.matching:[0.031070655839333605, 0.022061297914249472, 0.022061297914249472, 0.002074786711422751]\n"
     ]
    },
    {
     "name": "stdout",
     "output_type": "stream",
     "text": [
      "SVD error (low rank): 1.079819\n"
     ]
    },
    {
     "name": "stderr",
     "output_type": "stream",
     "text": [
      "INFO:matching.matching:[0.03108133558524294, 0.022066669784568886, 0.022066669784568883, 0.0020569576055715364]\n"
     ]
    },
    {
     "name": "stdout",
     "output_type": "stream",
     "text": [
      "SVD error (low rank): 1.080227\n"
     ]
    },
    {
     "name": "stderr",
     "output_type": "stream",
     "text": [
      "INFO:matching.matching:[0.031173565190608873, 0.022138749786826752, 0.022138749786826756, 0.0021708139224742317]\n"
     ]
    },
    {
     "name": "stdout",
     "output_type": "stream",
     "text": [
      "SVD error (low rank): 1.085938\n"
     ]
    },
    {
     "name": "stderr",
     "output_type": "stream",
     "text": [
      "INFO:matching.matching:[0.031089056657181865, 0.02207697453935312, 0.022076974539353127, 0.0021144174582819453]\n"
     ]
    },
    {
     "name": "stdout",
     "output_type": "stream",
     "text": [
      "SVD error (low rank): 1.080814\n"
     ]
    },
    {
     "name": "stderr",
     "output_type": "stream",
     "text": [
      "INFO:matching.matching:[0.031126182440359737, 0.022110857498041793, 0.022110857498041786, 0.002194426325595746]\n"
     ]
    },
    {
     "name": "stdout",
     "output_type": "stream",
     "text": [
      "SVD error (low rank): 1.082638\n"
     ]
    },
    {
     "name": "stderr",
     "output_type": "stream",
     "text": [
      "INFO:matching.matching:[0.002150781410684465, 0.0220601856329725, 0.022060185632972507, 0.03105969192967245]\n"
     ]
    },
    {
     "name": "stdout",
     "output_type": "stream",
     "text": [
      "SVD error (low rank): 1.079608\n"
     ]
    },
    {
     "name": "stderr",
     "output_type": "stream",
     "text": [
      "INFO:matching.matching:[0.0022043540997204354, 0.022201202282453193, 0.022201202282453186, 0.03125557083023228]\n"
     ]
    },
    {
     "name": "stdout",
     "output_type": "stream",
     "text": [
      "SVD error (low rank): 1.090688\n"
     ]
    }
   ],
   "source": [
    "cartesian_points = [best_compare_mirror_embeddings(graph_embeddings, embedding.learn_embedding(graph=noisy_graph, no_python=True)[0]) for noisy_graph in noisy_graphs]\n"
   ]
  },
  {
   "cell_type": "code",
   "execution_count": 14,
   "metadata": {},
   "outputs": [
    {
     "name": "stdout",
     "output_type": "stream",
     "text": [
      "SVD error (low rank): 0.994151\n"
     ]
    },
    {
     "name": "stderr",
     "output_type": "stream",
     "text": [
      "INFO:matching.matching:[1.998, 1.001, 0.999, 0.001999999999999986]\n"
     ]
    },
    {
     "name": "stdout",
     "output_type": "stream",
     "text": [
      "SVD error (low rank): 0.995744\n"
     ]
    },
    {
     "name": "stderr",
     "output_type": "stream",
     "text": [
      "INFO:matching.matching:[0.0019999999999999844, 0.999, 1.001, 1.998]\n"
     ]
    },
    {
     "name": "stderr",
     "output_type": "stream",
     "text": [
      "INFO:matching.matching:[0.001999999999999986, 0.999, 1.001, 1.998]\n"
     ]
    },
    {
     "name": "stdout",
     "output_type": "stream",
     "text": [
      "SVD error (low rank): 0.996745\n"
     ]
    },
    {
     "name": "stderr",
     "output_type": "stream",
     "text": [
      "INFO:matching.matching:[0.0019999999999999836, 0.999, 1.001, 1.998]\n"
     ]
    },
    {
     "name": "stdout",
     "output_type": "stream",
     "text": [
      "SVD error (low rank): 0.996647\n"
     ]
    },
    {
     "name": "stderr",
     "output_type": "stream",
     "text": [
      "INFO:matching.matching:[0.0019999999999999827, 0.999, 1.001, 1.998]\n"
     ]
    },
    {
     "name": "stdout",
     "output_type": "stream",
     "text": [
      "SVD error (low rank): 0.999444\n"
     ]
    },
    {
     "name": "stdout",
     "output_type": "stream",
     "text": [
      "SVD error (low rank): 0.999191\n"
     ]
    },
    {
     "name": "stderr",
     "output_type": "stream",
     "text": [
      "INFO:matching.matching:[-1.254552017826427e-17, 1.001, 0.999, 2.0]\n"
     ]
    },
    {
     "name": "stdout",
     "output_type": "stream",
     "text": [
      "SVD error (low rank): 0.999796\n"
     ]
    },
    {
     "name": "stderr",
     "output_type": "stream",
     "text": [
      "INFO:matching.matching:[1.998, 1.001, 0.999, 0.0019999999999999896]\n"
     ]
    },
    {
     "name": "stderr",
     "output_type": "stream",
     "text": [
      "INFO:matching.matching:[-1.509903313490213e-17, 1.001, 0.999, 2.0]\n"
     ]
    },
    {
     "name": "stdout",
     "output_type": "stream",
     "text": [
      "SVD error (low rank): 1.003476\n"
     ]
    },
    {
     "name": "stderr",
     "output_type": "stream",
     "text": [
      "INFO:matching.matching:[0.0019999999999999875, 0.999, 1.001, 1.998]\n"
     ]
    },
    {
     "name": "stdout",
     "output_type": "stream",
     "text": [
      "SVD error (low rank): 1.001568\n"
     ]
    },
    {
     "name": "stdout",
     "output_type": "stream",
     "text": [
      "SVD error (low rank): 1.002466\n"
     ]
    },
    {
     "name": "stderr",
     "output_type": "stream",
     "text": [
      "INFO:matching.matching:[1.998, 1.001, 0.999, 0.0019999999999999883]\n"
     ]
    },
    {
     "name": "stderr",
     "output_type": "stream",
     "text": [
      "INFO:matching.matching:[-1.199040866595169e-17, 1.001, 0.999, 2.0]\n"
     ]
    },
    {
     "name": "stdout",
     "output_type": "stream",
     "text": [
      "SVD error (low rank): 1.003682\n"
     ]
    },
    {
     "name": "stderr",
     "output_type": "stream",
     "text": [
      "INFO:matching.matching:[0.001999999999999991, 0.999, 1.001, 1.998]\n"
     ]
    },
    {
     "name": "stdout",
     "output_type": "stream",
     "text": [
      "SVD error (low rank): 1.005934\n"
     ]
    },
    {
     "name": "stderr",
     "output_type": "stream",
     "text": [
      "INFO:matching.matching:[0.001999999999999984, 0.999, 1.001, 1.998]\n"
     ]
    },
    {
     "name": "stdout",
     "output_type": "stream",
     "text": [
      "SVD error (low rank): 1.005789\n"
     ]
    },
    {
     "name": "stderr",
     "output_type": "stream",
     "text": [
      "INFO:matching.matching:[1.998, 1.001, 0.999, 0.0019999999999999784]\n"
     ]
    },
    {
     "name": "stdout",
     "output_type": "stream",
     "text": [
      "SVD error (low rank): 1.006232\n"
     ]
    },
    {
     "name": "stderr",
     "output_type": "stream",
     "text": [
      "INFO:matching.matching:[0.00199999999999999, 0.999, 1.001, 1.998]\n"
     ]
    },
    {
     "name": "stdout",
     "output_type": "stream",
     "text": [
      "SVD error (low rank): 1.007737\n"
     ]
    },
    {
     "name": "stdout",
     "output_type": "stream",
     "text": [
      "SVD error (low rank): 1.011885\n"
     ]
    },
    {
     "name": "stderr",
     "output_type": "stream",
     "text": [
      "INFO:matching.matching:[2.0, 0.999, 1.001, -1.7430501486614958e-17]\n"
     ]
    },
    {
     "name": "stdout",
     "output_type": "stream",
     "text": [
      "SVD error (low rank): 1.012123\n"
     ]
    },
    {
     "name": "stderr",
     "output_type": "stream",
     "text": [
      "INFO:matching.matching:[1.998, 1.001, 0.999, 0.0019999999999999857]\n"
     ]
    },
    {
     "name": "stdout",
     "output_type": "stream",
     "text": [
      "SVD error (low rank): 1.009728\n"
     ]
    },
    {
     "name": "stderr",
     "output_type": "stream",
     "text": [
      "INFO:matching.matching:[-1.4432899320127036e-17, 1.001, 0.999, 2.0]\n"
     ]
    },
    {
     "name": "stdout",
     "output_type": "stream",
     "text": [
      "SVD error (low rank): 1.011295\n"
     ]
    },
    {
     "name": "stderr",
     "output_type": "stream",
     "text": [
      "INFO:matching.matching:[0.001999999999999987, 0.999, 1.001, 1.998]\n"
     ]
    },
    {
     "name": "stdout",
     "output_type": "stream",
     "text": [
      "SVD error (low rank): 1.013675\n"
     ]
    },
    {
     "name": "stderr",
     "output_type": "stream",
     "text": [
      "INFO:matching.matching:[0.000292893218813435, 1.0007071067811866, 0.9992928932188134, 1.9997071067811867]\n"
     ]
    },
    {
     "name": "stdout",
     "output_type": "stream",
     "text": [
      "SVD error (low rank): 1.012236\n"
     ]
    },
    {
     "name": "stderr",
     "output_type": "stream",
     "text": [
      "INFO:matching.matching:[0.001999999999999983, 0.999, 1.001, 1.998]\n"
     ]
    },
    {
     "name": "stdout",
     "output_type": "stream",
     "text": [
      "SVD error (low rank): 1.013585\n"
     ]
    },
    {
     "name": "stderr",
     "output_type": "stream",
     "text": [
      "INFO:matching.matching:[0.0019999999999999888, 0.999, 1.001, 1.998]\n"
     ]
    },
    {
     "name": "stderr",
     "output_type": "stream",
     "text": [
      "INFO:matching.matching:[-1.354472090042691e-17, 1.001, 0.999, 2.0]\n"
     ]
    },
    {
     "name": "stdout",
     "output_type": "stream",
     "text": [
      "SVD error (low rank): 1.016475\n"
     ]
    },
    {
     "name": "stderr",
     "output_type": "stream",
     "text": [
      "INFO:matching.matching:[0.0002928932188134388, 1.0007071067811866, 0.9992928932188134, 1.9997071067811867]\n"
     ]
    },
    {
     "name": "stdout",
     "output_type": "stream",
     "text": [
      "SVD error (low rank): 1.015667\n"
     ]
    },
    {
     "name": "stderr",
     "output_type": "stream",
     "text": [
      "INFO:matching.matching:[2.0, 0.999, 1.001, -1.8984813721090178e-17]\n"
     ]
    },
    {
     "name": "stdout",
     "output_type": "stream",
     "text": [
      "SVD error (low rank): 1.016851\n"
     ]
    },
    {
     "name": "stderr",
     "output_type": "stream",
     "text": [
      "INFO:matching.matching:[0.0019999999999999827, 0.9989999999999999, 1.001, 1.998]\n"
     ]
    },
    {
     "name": "stdout",
     "output_type": "stream",
     "text": [
      "SVD error (low rank): 1.018438\n"
     ]
    },
    {
     "name": "stdout",
     "output_type": "stream",
     "text": [
      "SVD error (low rank): 1.015499\n"
     ]
    },
    {
     "name": "stderr",
     "output_type": "stream",
     "text": [
      "INFO:matching.matching:[1.9997071067811867, 0.9992928932188134, 1.0007071067811866, 0.0002928932188134382]\n"
     ]
    },
    {
     "name": "stdout",
     "output_type": "stream",
     "text": [
      "SVD error (low rank): 1.020395\n"
     ]
    },
    {
     "name": "stderr",
     "output_type": "stream",
     "text": [
      "INFO:matching.matching:[1.9997071067811867, 0.9992928932188134, 1.0007071067811866, 0.0002928932188134392]\n"
     ]
    },
    {
     "name": "stderr",
     "output_type": "stream",
     "text": [
      "INFO:matching.matching:[0.0019999999999999766, 0.999, 1.001, 1.998]\n"
     ]
    },
    {
     "name": "stdout",
     "output_type": "stream",
     "text": [
      "SVD error (low rank): 1.017005\n"
     ]
    },
    {
     "name": "stderr",
     "output_type": "stream",
     "text": [
      "INFO:matching.matching:[2.0, 0.999, 1.001, -1.1213252548714082e-17]\n"
     ]
    },
    {
     "name": "stdout",
     "output_type": "stream",
     "text": [
      "SVD error (low rank): 1.020269\n"
     ]
    },
    {
     "name": "stdout",
     "output_type": "stream",
     "text": [
      "SVD error (low rank): 1.024782\n"
     ]
    },
    {
     "name": "stderr",
     "output_type": "stream",
     "text": [
      "INFO:matching.matching:[-1.2878587085651817e-17, 1.001, 0.999, 2.0]\n"
     ]
    },
    {
     "name": "stdout",
     "output_type": "stream",
     "text": [
      "SVD error (low rank): 1.020594\n"
     ]
    },
    {
     "name": "stderr",
     "output_type": "stream",
     "text": [
      "INFO:matching.matching:[1.9997071067811867, 0.9992928932188134, 1.0007071067811866, 0.000292893218813439]\n"
     ]
    },
    {
     "name": "stdout",
     "output_type": "stream",
     "text": [
      "SVD error (low rank): 1.023269\n"
     ]
    },
    {
     "name": "stderr",
     "output_type": "stream",
     "text": [
      "INFO:matching.matching:[0.0019999999999999823, 0.9989999999999999, 1.001, 1.998]\n"
     ]
    },
    {
     "name": "stdout",
     "output_type": "stream",
     "text": [
      "SVD error (low rank): 1.026215\n"
     ]
    },
    {
     "name": "stderr",
     "output_type": "stream",
     "text": [
      "INFO:matching.matching:[1.9997071067811867, 0.9992928932188134, 1.0007071067811866, 0.0002928932188134369]\n"
     ]
    },
    {
     "name": "stdout",
     "output_type": "stream",
     "text": [
      "SVD error (low rank): 1.026087\n"
     ]
    },
    {
     "name": "stderr",
     "output_type": "stream",
     "text": [
      "INFO:matching.matching:[1.998, 1.001, 0.999, 0.001999999999999987]\n"
     ]
    },
    {
     "name": "stderr",
     "output_type": "stream",
     "text": [
      "INFO:matching.matching:[1.9997071067811867, 0.9992928932188134, 1.0007071067811866, 0.00029289321881343413]\n"
     ]
    },
    {
     "name": "stdout",
     "output_type": "stream",
     "text": [
      "SVD error (low rank): 1.029090\n"
     ]
    },
    {
     "name": "stderr",
     "output_type": "stream",
     "text": [
      "INFO:matching.matching:[1.998, 1.001, 0.999, 0.001999999999999981]\n"
     ]
    },
    {
     "name": "stdout",
     "output_type": "stream",
     "text": [
      "SVD error (low rank): 1.029150\n"
     ]
    },
    {
     "name": "stdout",
     "output_type": "stream",
     "text": [
      "SVD error (low rank): 1.031413\n"
     ]
    },
    {
     "name": "stderr",
     "output_type": "stream",
     "text": [
      "INFO:matching.matching:[1.9997071067811867, 0.9992928932188134, 1.0007071067811866, 0.0002928932188134442]\n"
     ]
    },
    {
     "name": "stdout",
     "output_type": "stream",
     "text": [
      "SVD error (low rank): 1.033529\n"
     ]
    },
    {
     "name": "stderr",
     "output_type": "stream",
     "text": [
      "INFO:matching.matching:[1.9997071067811867, 0.9992928932188134, 1.0007071067811866, 0.00029289321881344335]\n"
     ]
    },
    {
     "name": "stdout",
     "output_type": "stream",
     "text": [
      "SVD error (low rank): 1.031119\n"
     ]
    },
    {
     "name": "stderr",
     "output_type": "stream",
     "text": [
      "INFO:matching.matching:[0.001999999999999984, 0.999, 1.001, 1.998]\n"
     ]
    },
    {
     "name": "stderr",
     "output_type": "stream",
     "text": [
      "INFO:matching.matching:[1.9997071067811867, 0.9992928932188134, 1.0007071067811866, 0.0002928932188134387]\n"
     ]
    },
    {
     "name": "stdout",
     "output_type": "stream",
     "text": [
      "SVD error (low rank): 1.031877\n"
     ]
    },
    {
     "name": "stdout",
     "output_type": "stream",
     "text": [
      "SVD error (low rank): 1.033553\n"
     ]
    },
    {
     "name": "stderr",
     "output_type": "stream",
     "text": [
      "INFO:matching.matching:[1.9997071067811867, 0.9992928932188134, 1.0007071067811866, 0.00029289321881344167]\n"
     ]
    },
    {
     "name": "stdout",
     "output_type": "stream",
     "text": [
      "SVD error (low rank): 1.035236\n"
     ]
    },
    {
     "name": "stderr",
     "output_type": "stream",
     "text": [
      "INFO:matching.matching:[1.9997071067811867, 0.9992928932188134, 1.0007071067811866, 0.0002928932188134422]\n"
     ]
    },
    {
     "name": "stderr",
     "output_type": "stream",
     "text": [
      "INFO:matching.matching:[2.0, 0.999, 1.001, -1.6209256159527284e-17]\n"
     ]
    },
    {
     "name": "stdout",
     "output_type": "stream",
     "text": [
      "SVD error (low rank): 1.035165\n"
     ]
    },
    {
     "name": "stderr",
     "output_type": "stream",
     "text": [
      "INFO:matching.matching:[2.0, 0.999, 1.001, -1.3988810110276973e-17]\n"
     ]
    },
    {
     "name": "stdout",
     "output_type": "stream",
     "text": [
      "SVD error (low rank): 1.035922\n"
     ]
    },
    {
     "name": "stdout",
     "output_type": "stream",
     "text": [
      "SVD error (low rank): 1.037095\n"
     ]
    },
    {
     "name": "stderr",
     "output_type": "stream",
     "text": [
      "INFO:matching.matching:[0.0002928932188134471, 1.0007071067811866, 0.9992928932188134, 1.9997071067811867]\n"
     ]
    },
    {
     "name": "stderr",
     "output_type": "stream",
     "text": [
      "INFO:matching.matching:[0.001999999999999983, 0.999, 1.001, 1.998]\n"
     ]
    },
    {
     "name": "stdout",
     "output_type": "stream",
     "text": [
      "SVD error (low rank): 1.040733\n"
     ]
    },
    {
     "name": "stdout",
     "output_type": "stream",
     "text": [
      "SVD error (low rank): 1.039388\n"
     ]
    },
    {
     "name": "stderr",
     "output_type": "stream",
     "text": [
      "INFO:matching.matching:[0.000292893218813444, 1.0007071067811866, 0.9992928932188134, 1.9997071067811865]\n"
     ]
    },
    {
     "name": "stdout",
     "output_type": "stream",
     "text": [
      "SVD error (low rank): 1.038486\n"
     ]
    },
    {
     "name": "stderr",
     "output_type": "stream",
     "text": [
      "INFO:matching.matching:[0.0002928932188134401, 1.0007071067811866, 0.9992928932188134, 1.9997071067811867]\n"
     ]
    },
    {
     "name": "stdout",
     "output_type": "stream",
     "text": [
      "SVD error (low rank): 1.040157\n"
     ]
    },
    {
     "name": "stderr",
     "output_type": "stream",
     "text": [
      "INFO:matching.matching:[0.0002928932188134442, 1.0007071067811866, 0.9992928932188134, 1.9997071067811867]\n"
     ]
    },
    {
     "name": "stderr",
     "output_type": "stream",
     "text": [
      "INFO:matching.matching:[-1.3655743202889425e-17, 1.0010000000000001, 0.999, 2.0]\n"
     ]
    },
    {
     "name": "stdout",
     "output_type": "stream",
     "text": [
      "SVD error (low rank): 1.043777\n"
     ]
    },
    {
     "name": "stderr",
     "output_type": "stream",
     "text": [
      "INFO:matching.matching:[1.9997071067811867, 0.9992928932188134, 1.0007071067811866, 0.00029289321881344454]\n"
     ]
    },
    {
     "name": "stdout",
     "output_type": "stream",
     "text": [
      "SVD error (low rank): 1.045095\n"
     ]
    },
    {
     "name": "stderr",
     "output_type": "stream",
     "text": [
      "INFO:matching.matching:[0.00029289321881343456, 1.0007071067811866, 0.9992928932188134, 1.9997071067811867]\n"
     ]
    },
    {
     "name": "stdout",
     "output_type": "stream",
     "text": [
      "SVD error (low rank): 1.044540\n"
     ]
    },
    {
     "name": "stdout",
     "output_type": "stream",
     "text": [
      "SVD error (low rank): 1.047739\n"
     ]
    },
    {
     "name": "stderr",
     "output_type": "stream",
     "text": [
      "INFO:matching.matching:[0.0002928932188134401, 1.0007071067811866, 0.9992928932188134, 1.9997071067811865]\n"
     ]
    },
    {
     "name": "stdout",
     "output_type": "stream",
     "text": [
      "SVD error (low rank): 1.045232\n"
     ]
    },
    {
     "name": "stderr",
     "output_type": "stream",
     "text": [
      "INFO:matching.matching:[1.9997071067811867, 0.9992928932188134, 1.0007071067811866, 0.000292893218813436]\n"
     ]
    },
    {
     "name": "stdout",
     "output_type": "stream",
     "text": [
      "SVD error (low rank): 1.045249\n"
     ]
    },
    {
     "name": "stderr",
     "output_type": "stream",
     "text": [
      "INFO:matching.matching:[1.9997071067811867, 0.9992928932188134, 1.0007071067811866, 0.00029289321881344134]\n"
     ]
    },
    {
     "name": "stdout",
     "output_type": "stream",
     "text": [
      "SVD error (low rank): 1.050026\n"
     ]
    },
    {
     "name": "stderr",
     "output_type": "stream",
     "text": [
      "INFO:matching.matching:[0.001999999999999986, 0.999, 1.001, 1.998]\n"
     ]
    },
    {
     "name": "stderr",
     "output_type": "stream",
     "text": [
      "INFO:matching.matching:[1.9997071067811867, 0.9992928932188134, 1.0007071067811866, 0.0002928932188134386]\n"
     ]
    },
    {
     "name": "stdout",
     "output_type": "stream",
     "text": [
      "SVD error (low rank): 1.048046\n"
     ]
    },
    {
     "name": "stderr",
     "output_type": "stream",
     "text": [
      "INFO:matching.matching:[0.0002928932188134329, 1.0007071067811866, 0.9992928932188134, 1.9997071067811867]\n"
     ]
    },
    {
     "name": "stdout",
     "output_type": "stream",
     "text": [
      "SVD error (low rank): 1.048939\n"
     ]
    },
    {
     "name": "stderr",
     "output_type": "stream",
     "text": [
      "INFO:matching.matching:[0.00029289321881343966, 1.0007071067811866, 0.9992928932188134, 1.9997071067811867]\n"
     ]
    },
    {
     "name": "stdout",
     "output_type": "stream",
     "text": [
      "SVD error (low rank): 1.049081\n"
     ]
    },
    {
     "name": "stderr",
     "output_type": "stream",
     "text": [
      "INFO:matching.matching:[1.9997071067811867, 0.9992928932188134, 1.0007071067811866, 0.0002928932188134461]\n"
     ]
    },
    {
     "name": "stdout",
     "output_type": "stream",
     "text": [
      "SVD error (low rank): 1.054319\n"
     ]
    },
    {
     "name": "stderr",
     "output_type": "stream",
     "text": [
      "INFO:matching.matching:[0.00029289321881343966, 1.0007071067811866, 0.9992928932188134, 1.9997071067811867]\n"
     ]
    },
    {
     "name": "stdout",
     "output_type": "stream",
     "text": [
      "SVD error (low rank): 1.051651\n"
     ]
    },
    {
     "name": "stderr",
     "output_type": "stream",
     "text": [
      "INFO:matching.matching:[0.00029289321881344465, 1.0007071067811866, 0.9992928932188134, 1.9997071067811867]\n"
     ]
    },
    {
     "name": "stdout",
     "output_type": "stream",
     "text": [
      "SVD error (low rank): 1.054023\n"
     ]
    },
    {
     "name": "stderr",
     "output_type": "stream",
     "text": [
      "INFO:matching.matching:[-1.6764367671839863e-17, 1.001, 0.999, 2.0]\n"
     ]
    },
    {
     "name": "stdout",
     "output_type": "stream",
     "text": [
      "SVD error (low rank): 1.050524\n"
     ]
    },
    {
     "name": "stderr",
     "output_type": "stream",
     "text": [
      "INFO:matching.matching:[1.9997071067811867, 0.9992928932188134, 1.0007071067811866, 0.0002928932188134353]\n"
     ]
    },
    {
     "name": "stdout",
     "output_type": "stream",
     "text": [
      "SVD error (low rank): 1.054543\n"
     ]
    },
    {
     "name": "stderr",
     "output_type": "stream",
     "text": [
      "INFO:matching.matching:[0.0019999999999999836, 0.999, 1.001, 1.998]\n"
     ]
    },
    {
     "name": "stdout",
     "output_type": "stream",
     "text": [
      "SVD error (low rank): 1.054154\n"
     ]
    },
    {
     "name": "stderr",
     "output_type": "stream",
     "text": [
      "INFO:matching.matching:[2.0, 0.999, 1.001, -1.6986412276764895e-17]\n"
     ]
    },
    {
     "name": "stdout",
     "output_type": "stream",
     "text": [
      "SVD error (low rank): 1.058862\n"
     ]
    },
    {
     "name": "stdout",
     "output_type": "stream",
     "text": [
      "SVD error (low rank): 1.056658\n"
     ]
    },
    {
     "name": "stderr",
     "output_type": "stream",
     "text": [
      "INFO:matching.matching:[1.9997071067811865, 0.9992928932188134, 1.0007071067811866, 0.0002928932188134389]\n"
     ]
    },
    {
     "name": "stdout",
     "output_type": "stream",
     "text": [
      "SVD error (low rank): 1.058523\n"
     ]
    },
    {
     "name": "stderr",
     "output_type": "stream",
     "text": [
      "INFO:matching.matching:[1.9997071067811867, 0.9992928932188134, 1.0007071067811866, 0.00029289321881344053]\n"
     ]
    },
    {
     "name": "stderr",
     "output_type": "stream",
     "text": [
      "INFO:matching.matching:[-1.0769163338864019e-17, 1.001, 0.999, 2.0]\n"
     ]
    },
    {
     "name": "stdout",
     "output_type": "stream",
     "text": [
      "SVD error (low rank): 1.063523\n"
     ]
    },
    {
     "name": "stderr",
     "output_type": "stream",
     "text": [
      "INFO:matching.matching:[2.0, 0.999, 1.001, -1.3433698597964394e-17]\n"
     ]
    },
    {
     "name": "stdout",
     "output_type": "stream",
     "text": [
      "SVD error (low rank): 1.058796\n"
     ]
    },
    {
     "name": "stderr",
     "output_type": "stream",
     "text": [
      "INFO:matching.matching:[1.9997071067811867, 0.9992928932188134, 1.0007071067811866, 0.00029289321881344145]\n"
     ]
    },
    {
     "name": "stdout",
     "output_type": "stream",
     "text": [
      "SVD error (low rank): 1.060597\n"
     ]
    },
    {
     "name": "stderr",
     "output_type": "stream",
     "text": [
      "INFO:matching.matching:[0.0002928932188134421, 1.0007071067811866, 0.9992928932188134, 1.9997071067811867]\n"
     ]
    },
    {
     "name": "stdout",
     "output_type": "stream",
     "text": [
      "SVD error (low rank): 1.064499\n"
     ]
    },
    {
     "name": "stderr",
     "output_type": "stream",
     "text": [
      "INFO:matching.matching:[1.998, 1.001, 0.999, 0.001999999999999979]\n"
     ]
    },
    {
     "name": "stdout",
     "output_type": "stream",
     "text": [
      "SVD error (low rank): 1.059756\n"
     ]
    },
    {
     "name": "stderr",
     "output_type": "stream",
     "text": [
      "INFO:matching.matching:[1.9997071067811867, 0.9992928932188134, 1.0007071067811866, 0.00029289321881344134]\n"
     ]
    },
    {
     "name": "stdout",
     "output_type": "stream",
     "text": [
      "SVD error (low rank): 1.062971\n"
     ]
    },
    {
     "name": "stdout",
     "output_type": "stream",
     "text": [
      "SVD error (low rank): 1.062823\n"
     ]
    },
    {
     "name": "stderr",
     "output_type": "stream",
     "text": [
      "INFO:matching.matching:[1.9997071067811867, 0.9992928932188134, 1.0007071067811866, 0.00029289321881344633]\n"
     ]
    },
    {
     "name": "stdout",
     "output_type": "stream",
     "text": [
      "SVD error (low rank): 1.064390\n"
     ]
    },
    {
     "name": "stderr",
     "output_type": "stream",
     "text": [
      "INFO:matching.matching:[-1.1879386363489175e-17, 1.001, 0.999, 2.0]\n"
     ]
    },
    {
     "name": "stdout",
     "output_type": "stream",
     "text": [
      "SVD error (low rank): 1.065084\n"
     ]
    },
    {
     "name": "stderr",
     "output_type": "stream",
     "text": [
      "INFO:matching.matching:[1.9997071067811867, 0.9992928932188134, 1.0007071067811866, 0.000292893218813437]\n"
     ]
    },
    {
     "name": "stdout",
     "output_type": "stream",
     "text": [
      "SVD error (low rank): 1.067744\n"
     ]
    },
    {
     "name": "stderr",
     "output_type": "stream",
     "text": [
      "INFO:matching.matching:[1.9997071067811867, 0.9992928932188134, 1.0007071067811866, 0.00029289321881343787]\n"
     ]
    },
    {
     "name": "stderr",
     "output_type": "stream",
     "text": [
      "INFO:matching.matching:[0.00029289321881343955, 1.0007071067811866, 0.9992928932188134, 1.9997071067811867]\n"
     ]
    },
    {
     "name": "stdout",
     "output_type": "stream",
     "text": [
      "SVD error (low rank): 1.063482\n"
     ]
    },
    {
     "name": "stdout",
     "output_type": "stream",
     "text": [
      "SVD error (low rank): 1.072936\n"
     ]
    },
    {
     "name": "stderr",
     "output_type": "stream",
     "text": [
      "INFO:matching.matching:[1.9997071067811867, 0.9992928932188134, 1.0007071067811866, 0.0002928932188134452]\n"
     ]
    },
    {
     "name": "stderr",
     "output_type": "stream",
     "text": [
      "INFO:matching.matching:[0.0019999999999999914, 0.999, 1.001, 1.998]\n"
     ]
    },
    {
     "name": "stdout",
     "output_type": "stream",
     "text": [
      "SVD error (low rank): 1.067710\n"
     ]
    },
    {
     "name": "stderr",
     "output_type": "stream",
     "text": [
      "INFO:matching.matching:[1.998, 1.001, 0.999, 0.001999999999999984]\n"
     ]
    },
    {
     "name": "stdout",
     "output_type": "stream",
     "text": [
      "SVD error (low rank): 1.073625\n"
     ]
    },
    {
     "name": "stderr",
     "output_type": "stream",
     "text": [
      "INFO:matching.matching:[1.998, 1.001, 0.999, 0.001999999999999991]\n"
     ]
    },
    {
     "name": "stdout",
     "output_type": "stream",
     "text": [
      "SVD error (low rank): 1.074746\n"
     ]
    },
    {
     "name": "stderr",
     "output_type": "stream",
     "text": [
      "INFO:matching.matching:[1.9997071067811867, 0.9992928932188134, 1.0007071067811866, 0.0002928932188134383]\n"
     ]
    },
    {
     "name": "stdout",
     "output_type": "stream",
     "text": [
      "SVD error (low rank): 1.077508\n"
     ]
    },
    {
     "name": "stderr",
     "output_type": "stream",
     "text": [
      "INFO:matching.matching:[0.0002928932188134431, 1.0007071067811866, 0.9992928932188134, 1.9997071067811867]\n"
     ]
    },
    {
     "name": "stdout",
     "output_type": "stream",
     "text": [
      "SVD error (low rank): 1.073660\n"
     ]
    },
    {
     "name": "stderr",
     "output_type": "stream",
     "text": [
      "INFO:matching.matching:[-9.658940314238861e-18, 1.001, 0.999, 2.0]\n"
     ]
    },
    {
     "name": "stdout",
     "output_type": "stream",
     "text": [
      "SVD error (low rank): 1.074342\n"
     ]
    },
    {
     "name": "stderr",
     "output_type": "stream",
     "text": [
      "INFO:matching.matching:[0.00029289321881343765, 1.0007071067811866, 0.9992928932188134, 1.9997071067811867]\n"
     ]
    },
    {
     "name": "stdout",
     "output_type": "stream",
     "text": [
      "SVD error (low rank): 1.069764\n"
     ]
    },
    {
     "name": "stderr",
     "output_type": "stream",
     "text": [
      "INFO:matching.matching:[0.00029289321881344335, 1.0007071067811864, 0.9992928932188134, 1.9997071067811867]\n"
     ]
    },
    {
     "name": "stdout",
     "output_type": "stream",
     "text": [
      "SVD error (low rank): 1.073654\n"
     ]
    },
    {
     "name": "stderr",
     "output_type": "stream",
     "text": [
      "INFO:matching.matching:[0.00029289321881344253, 1.0007071067811866, 0.9992928932188134, 1.9997071067811867]\n"
     ]
    },
    {
     "name": "stdout",
     "output_type": "stream",
     "text": [
      "SVD error (low rank): 1.077811\n"
     ]
    },
    {
     "name": "stderr",
     "output_type": "stream",
     "text": [
      "INFO:matching.matching:[0.0019999999999999888, 0.999, 1.001, 1.998]\n"
     ]
    },
    {
     "name": "stdout",
     "output_type": "stream",
     "text": [
      "SVD error (low rank): 1.074554\n"
     ]
    },
    {
     "name": "stderr",
     "output_type": "stream",
     "text": [
      "INFO:matching.matching:[0.00029289321881343744, 1.0007071067811866, 0.9992928932188134, 1.9997071067811867]\n"
     ]
    },
    {
     "name": "stdout",
     "output_type": "stream",
     "text": [
      "SVD error (low rank): 1.080430\n"
     ]
    },
    {
     "name": "stderr",
     "output_type": "stream",
     "text": [
      "INFO:matching.matching:[1.9997071067811867, 0.9992928932188134, 1.0007071067811866, 0.0002928932188134388]\n"
     ]
    },
    {
     "name": "stdout",
     "output_type": "stream",
     "text": [
      "SVD error (low rank): 1.079819\n"
     ]
    },
    {
     "name": "stderr",
     "output_type": "stream",
     "text": [
      "INFO:matching.matching:[1.9997071067811867, 0.9992928932188134, 1.0007071067811866, 0.00029289321881344335]\n"
     ]
    },
    {
     "name": "stdout",
     "output_type": "stream",
     "text": [
      "SVD error (low rank): 1.080227\n"
     ]
    },
    {
     "name": "stderr",
     "output_type": "stream",
     "text": [
      "INFO:matching.matching:[0.0002928932188134388, 1.0007071067811866, 0.9992928932188134, 1.9997071067811867]\n"
     ]
    },
    {
     "name": "stdout",
     "output_type": "stream",
     "text": [
      "SVD error (low rank): 1.085938\n"
     ]
    },
    {
     "name": "stderr",
     "output_type": "stream",
     "text": [
      "INFO:matching.matching:[1.9997071067811867, 0.9992928932188134, 1.0007071067811866, 0.0002928932188134392]\n"
     ]
    },
    {
     "name": "stdout",
     "output_type": "stream",
     "text": [
      "SVD error (low rank): 1.080814\n"
     ]
    },
    {
     "name": "stderr",
     "output_type": "stream",
     "text": [
      "INFO:matching.matching:[0.00029289321881343646, 1.0007071067811866, 0.9992928932188134, 1.9997071067811867]\n"
     ]
    },
    {
     "name": "stdout",
     "output_type": "stream",
     "text": [
      "SVD error (low rank): 1.082638\n"
     ]
    },
    {
     "name": "stderr",
     "output_type": "stream",
     "text": [
      "INFO:matching.matching:[1.9997071067811867, 0.9992928932188134, 1.0007071067811866, 0.0002928932188134314]\n"
     ]
    },
    {
     "name": "stdout",
     "output_type": "stream",
     "text": [
      "SVD error (low rank): 1.079608\n"
     ]
    },
    {
     "name": "stderr",
     "output_type": "stream",
     "text": [
      "INFO:matching.matching:[0.00029289321881343386, 1.0007071067811866, 0.9992928932188134, 1.9997071067811867]\n"
     ]
    },
    {
     "name": "stdout",
     "output_type": "stream",
     "text": [
      "SVD error (low rank): 1.090688\n"
     ]
    }
   ],
   "source": [
    "from scipy.spatial.distance import cosine\n",
    "\n",
    "cosine_points = [best_compare_mirror_embeddings(graph_embeddings, embedding.learn_embedding(graph=noisy_graph, no_python=True)[0],distance=cosine) for noisy_graph in noisy_graphs]\n"
   ]
  },
  {
   "cell_type": "code",
   "execution_count": 9,
   "metadata": {},
   "outputs": [],
   "source": [
    "diff = [compare_difference_graph(graph, noisy_graph) for noisy_graph in noisy_graphs]\n"
   ]
  },
  {
   "cell_type": "code",
   "execution_count": 15,
   "metadata": {},
   "outputs": [
    {
     "data": {
      "image/png": "[encoded data removed]",
      "text/plain": [
       "<matplotlib.figure.Figure at 0x11556c400>"
      ]
     },
     "metadata": {},
     "output_type": "display_data"
    }
   ],
   "source": [
    "plt.plot(diff, cartesian_points, 'ro', diff, cosine_points, 'bo')\n",
    "plt.show()"
   ]
  },
  {
   "cell_type": "code",
   "execution_count": null,
   "metadata": {},
   "outputs": [],
   "source": [
    "cosine_points"
   ]
  },
  {
   "cell_type": "code",
   "execution_count": null,
   "metadata": {},
   "outputs": [],
   "source": []
  }
 ],
 "metadata": {
  "kernelspec": {
   "display_name": "Python 2",
   "language": "python",
   "name": "python2"
  },
  "language_info": {
   "codemirror_mode": {
    "name": "ipython",
    "version": 2
   },
   "file_extension": ".py",
   "mimetype": "text/x-python",
   "name": "python",
   "nbconvert_exporter": "python",
   "pygments_lexer": "ipython2",
   "version": "2.7.6"
  }
 },
 "nbformat": 4,
 "nbformat_minor": 0
}
